{
 "cells": [
  {
   "cell_type": "code",
   "execution_count": 1,
   "metadata": {},
   "outputs": [],
   "source": [
    "%load_ext rpy2.ipython"
   ]
  },
  {
   "cell_type": "markdown",
   "metadata": {},
   "source": [
    "# 扩增子测序分析结果报告\n",
    "\n",
    "微生物多样性测序是一种利用高通量测序技术对PCR所扩增的16S、18S、ITS等微生物物种特征序列进行检测的研究方法。 根据测序reads对目标扩增区域的覆盖情况，来统计丰度。原核生物常用16s引物，有v3-v4，v4等，不同的研究目的适用不同的引物。\n",
    "> 真菌常用ITS，即核糖体基因转录间隔区（internal transcribed spacer ,ITS），是位于核糖体DNA（rDNA）上18S 和28S 基因之间的区域片段，主要包括ITS1和ITS2。常用于真菌多样性分析。"
   ]
  },
  {
   "cell_type": "markdown",
   "metadata": {
    "tags": []
   },
   "source": [
    "## 实验流程\n",
    "\n",
    "从样本中提取基因组DNA后，用带有barcode的特异引物扩增rDNA的保守区（引物序列信息如表）。\n",
    "\n",
    "| 类型     | 测序区域             | 正向引物名称  | 引物序列            | 产物长度 | 正向引物名称  | 引物序列            \n",
    "| -------- | -------------------- | --------- | ------------------- | -------- |------------------- | -------- |\n",
    "| 16S 细菌 | V3-V4                | 341F      | CCTACGGGNGGCWGCAG   | ~466     | 806R     | GGACTACHVGGGTATCTAAT |\n",
    "| 16S 细菌 | V4                   | 515F      | GTGYCAGCMGCCGCGGTAA | ~292     | 806R     | GGACTACNVGGGTWTCTAAT |\n",
    "| 16S 细菌 | V5-V7                | 799F      | AACMGGATTAGATACCCKG | ~414     | 1193R    | ACGTCATCCCCACCTTCC ｜\n",
    "| 16S 细菌 | V4-V5                | 515F      | GTGCCAGCMGCCGCGGTAA | ~393     |907R     | CCGTCAATTCCTTTGAGTTT |\n",
    "| 16S 古菌 | V4-V5                | Arch519F  | CAGCMGCCGCGGTAA     | ~397     | Arch915R | GTGCTCCCCCGCCAATTCCT |\n",
    "| 18S      | V4                   | 528F      | GCGGTAATTCCAGCTCCAA | ~179     | 706R     | AATCCRAGAATTTCACCTCT |\n",
    "| ITS      | ITS2                 | ITS3_KYO2 | GATGAAGAACGYAGYRAA  | ~381     |ITS4     | TCCTCCGCTTATTGATATGC |\n",
    "\n",
    "## 分析流程\n",
    "\n",
    "微生物多样性研究主要分为多样性研究、功能研究、样本差异比较和环境关系研究5大部分。 测序得到raw reads之后，我们对低质量reads进行过滤，之后采用DADA2软件[1]进行质控、聚类单碱基精度的ASV (Amplicon Sequence Variants)，相当于100%相似度聚类的OTU。DADA2（Divisive Amplicon Denoising Algorithm）利用overlap将双端数据进行拼接，并进行质控、嵌合体过滤，获得高质量的ASV。在此基础上进行丰度定量，差异分析，以及物种注释和功能基因分析等。"
   ]
  },
  {
   "cell_type": "code",
   "execution_count": 2,
   "metadata": {},
   "outputs": [],
   "source": [
    "import qiime2 as q2\n",
    "import os \n",
    "import subprocess\n",
    "import pandas as pd"
   ]
  },
  {
   "cell_type": "markdown",
   "metadata": {},
   "source": [
    "正式分析开始------------"
   ]
  },
  {
   "cell_type": "markdown",
   "metadata": {
    "tags": []
   },
   "source": [
    "## 数据处理\n",
    "\n",
    "### 创建文件目录"
   ]
  },
  {
   "cell_type": "code",
   "execution_count": 3,
   "metadata": {},
   "outputs": [],
   "source": [
    "if not os.path.exists(\"qiime2_result\"):\n",
    "    os.mkdir(\"qiime2_result\")\n",
    "if not \"qiime2_result\" in os.getcwd():\n",
    "    os.chdir(\"qiime2_result\")\n",
    "# set the output dir-----------------\n",
    "dir1 = \"01.DataImport_QC_Filter\"\n",
    "dir2 = \"02.Denoise_Cluster\"\n",
    "dir3 = \"03.TaxonomyClassify\"\n",
    "dir4 = \"04.Taxa_diff\"\n",
    "dir5 = \"05.Alpha_diversity\"\n",
    "dir6 = \"06.beta_diversity\"\n",
    "dir7 = \"07.Function\""
   ]
  },
  {
   "cell_type": "code",
   "execution_count": 4,
   "metadata": {},
   "outputs": [],
   "source": [
    "#which version of qiime2 and python are we using?\n",
    "!qiime info > env.description.txt"
   ]
  },
  {
   "cell_type": "code",
   "execution_count": 6,
   "metadata": {},
   "outputs": [],
   "source": [
    "for v in globals().keys():\n",
    "    if v.startswith('dir') and not os.path.exists(globals()[v]):\n",
    "        os.mkdir(globals()[v])"
   ]
  },
  {
   "cell_type": "markdown",
   "metadata": {},
   "source": [
    "### 数据导入\n",
    "\n",
    "必须的文件路径参数\n",
    "1. fq_file: 输入的fq文件的路径，三列， 第一列`sample-id`是样本名称，第二列`forward-absolute-filepath`是read1的路径，第三列`reverse-absolute-filepath`是read2的路径，制表符分割的TSV文件\n",
    "2. metadata_file: 样本分组信息，可以多列，但第一列必须是与`fq_file`的第一列`sample-id`一致\n",
    "3. classify_file: 训练好的分类器，可以去网站上[下载](https://docs.qiime2.org/2022.2/data-resources/)"
   ]
  },
  {
   "cell_type": "code",
   "execution_count": 7,
   "metadata": {},
   "outputs": [],
   "source": [
    "fq_file = '/Users/dalena/Data/meta/example_rawdata/filepath.manifest1'\n",
    "metadata_file = '/Users/dalena/Data/meta/example_rawdata/sample-metadata.tsv'\n",
    "classify_file = '/Users/dalena/Data/meta/ref_Data/silva-138-99-515-806-nb-classifier.qza'"
   ]
  },
  {
   "cell_type": "code",
   "execution_count": 8,
   "metadata": {},
   "outputs": [],
   "source": [
    "# 生成保存qiime2结果的主文件夹\n",
    "if not os.path.exists(\"qiime2_core_output\"):\n",
    "    os.mkdir(\"qiime2_core_output\")\n",
    "if not \"qiime2_core_output\" in os.getcwd():\n",
    "    os.chdir(\"qiime2_core_output\")"
   ]
  },
  {
   "cell_type": "code",
   "execution_count": 9,
   "metadata": {
    "scrolled": true
   },
   "outputs": [
    {
     "name": "stdout",
     "output_type": "stream",
     "text": [
      "\u001b[32mImported /Users/dalena/Data/meta/example_rawdata/filepath.manifest1 as PairedEndFastqManifestPhred33V2 to import_data.qza\u001b[0m\n",
      "\u001b[0m"
     ]
    }
   ],
   "source": [
    "!qiime tools import \\\n",
    "  --type 'SampleData[PairedEndSequencesWithQuality]' \\\n",
    "  --input-path {fq_file} \\\n",
    "  --input-format PairedEndFastqManifestPhred33V2 \\\n",
    "  --output-path import_data.qza"
   ]
  },
  {
   "cell_type": "markdown",
   "metadata": {},
   "source": [
    "### 数据质量\n",
    "\n",
    "导入数据成功后，需要观察数据中的数据质量，是否有接头，和两端低质量的碱基，根据碱基的质量值进行过滤"
   ]
  },
  {
   "cell_type": "code",
   "execution_count": 10,
   "metadata": {},
   "outputs": [
    {
     "name": "stdout",
     "output_type": "stream",
     "text": [
      "\u001b[32mSaved Visualization to: ./qc_visualizers.qzv\u001b[0m\n",
      "\u001b[0m"
     ]
    },
    {
     "data": {
      "text/html": [
       "<div><img onload=\"(function(div, url){\n",
       "if (typeof require !== 'undefined') {\n",
       "    var baseURL = require.toUrl('').split('/').slice(0, -2).join('/');\n",
       "} else {\n",
       "    var baseURL = JSON.parse(\n",
       "        document.getElementById('jupyter-config-data').innerHTML\n",
       "    ).baseUrl.slice(0, -1);\n",
       "}\n",
       "url = baseURL + url;\n",
       "fetch(url).then(function(res) {\n",
       "    if (res.status === 404) {\n",
       "        div.innerHTML = 'Install QIIME 2 Jupyter extension with:<br />' +\n",
       "                        '<code>jupyter serverextension enable --py qiime2' +\n",
       "                        ' --sys-prefix</code><br />then restart your server.' +\n",
       "                        '<br /><br />(Interactive output not available on ' +\n",
       "                        'static notebook viewer services like nbviewer.)';\n",
       "    } else if (res.status === 409) {\n",
       "        div.innerHTML = 'Visualization no longer in scope. Re-run this cell' +\n",
       "                        ' to see the visualization.';\n",
       "    } else if (res.ok) {\n",
       "        url = res.url;\n",
       "        div.innerHTML = '<iframe src=\\'' + url + '\\' style=\\'' +\n",
       "                        'width: 100%; height: 700px; border: 0;\\'>' +\n",
       "                        '</iframe><hr />Open in a: <a href=\\'' + url + '\\'' +\n",
       "                        ' target=\\'_blank\\'>new window</a>'\n",
       "    } else {\n",
       "        div.innerHTML = 'Something has gone wrong. Check notebook server for' +\n",
       "                        ' errors.';\n",
       "    }\n",
       "});\n",
       "})(this.parentElement, '/qiime2/redirect?location=/var/folders/v_/4kh0sbdj7234gyfd0scwc_m40000gn/T/qiime2-archive-yrb3e6by')\" src=\"data:image/gif;base64,R0lGODlhAQABAIAAAP///wAAACH5BAEAAAAALAAAAAABAAEAAAICRAEAOw==\" /></div>"
      ],
      "text/plain": [
       "<visualization: Visualization uuid: 22850167-2416-44b5-b76c-fe2a26cff0a1>"
      ]
     },
     "execution_count": 10,
     "metadata": {},
     "output_type": "execute_result"
    }
   ],
   "source": [
    "!qiime demux summarize \\\n",
    "  --i-data ./import_data.qza \\\n",
    "  --o-visualization ./qc_visualizers.qzv\n",
    "q2.Visualization.load('qc_visualizers.qzv')"
   ]
  },
  {
   "cell_type": "markdown",
   "metadata": {},
   "source": [
    "### 去引物接头\n",
    "\n",
    "因为扩增子测序依赖于特定的引物PCR产物，所以测序的reads可能存在少许引物序列，好在引物都是固定的，可以查[实验流程章节](#)"
   ]
  },
  {
   "cell_type": "code",
   "execution_count": 13,
   "metadata": {},
   "outputs": [],
   "source": [
    "#-------parameter 输出----------\n",
    "TRIMADAPTERS=True # 是否需要剪切接头\n",
    "Fprimer=\"GTGCCAGCMGCCGCGGTAA\" #515F, replace if different primer\n",
    "Rprimer=\"GGACTACHVGGGTWTCTAAT\" #806R, replace if different primer\n",
    "Ncore=4 #多核使用"
   ]
  },
  {
   "cell_type": "code",
   "execution_count": 14,
   "metadata": {
    "scrolled": true
   },
   "outputs": [
    {
     "name": "stdout",
     "output_type": "stream",
     "text": [
      "\u001b[32mSaved SampleData[PairedEndSequencesWithQuality] to: import_data_removeAdapter.qza\u001b[0m\n",
      "\u001b[0m"
     ]
    }
   ],
   "source": [
    "#------------------------------\n",
    "if TRIMADAPTERS:\n",
    "  !qiime cutadapt trim-paired \\\n",
    "    --i-demultiplexed-sequences import_data.qza \\\n",
    "    --p-cores {Ncore} \\\n",
    "    --p-front-f {Fprimer} \\\n",
    "    --p-front-r {Rprimer} \\\n",
    "    --p-match-adapter-wildcards \\\n",
    "    --o-trimmed-sequences import_data_removeAdapter.qza"
   ]
  },
  {
   "cell_type": "code",
   "execution_count": 15,
   "metadata": {
    "tags": []
   },
   "outputs": [
    {
     "name": "stdout",
     "output_type": "stream",
     "text": [
      "\u001b[32mSaved Visualization to: import_data_removeAdapter.qzv\u001b[0m\n",
      "\u001b[0m"
     ]
    },
    {
     "data": {
      "text/html": [
       "<div><img onload=\"(function(div, url){\n",
       "if (typeof require !== 'undefined') {\n",
       "    var baseURL = require.toUrl('').split('/').slice(0, -2).join('/');\n",
       "} else {\n",
       "    var baseURL = JSON.parse(\n",
       "        document.getElementById('jupyter-config-data').innerHTML\n",
       "    ).baseUrl.slice(0, -1);\n",
       "}\n",
       "url = baseURL + url;\n",
       "fetch(url).then(function(res) {\n",
       "    if (res.status === 404) {\n",
       "        div.innerHTML = 'Install QIIME 2 Jupyter extension with:<br />' +\n",
       "                        '<code>jupyter serverextension enable --py qiime2' +\n",
       "                        ' --sys-prefix</code><br />then restart your server.' +\n",
       "                        '<br /><br />(Interactive output not available on ' +\n",
       "                        'static notebook viewer services like nbviewer.)';\n",
       "    } else if (res.status === 409) {\n",
       "        div.innerHTML = 'Visualization no longer in scope. Re-run this cell' +\n",
       "                        ' to see the visualization.';\n",
       "    } else if (res.ok) {\n",
       "        url = res.url;\n",
       "        div.innerHTML = '<iframe src=\\'' + url + '\\' style=\\'' +\n",
       "                        'width: 100%; height: 700px; border: 0;\\'>' +\n",
       "                        '</iframe><hr />Open in a: <a href=\\'' + url + '\\'' +\n",
       "                        ' target=\\'_blank\\'>new window</a>'\n",
       "    } else {\n",
       "        div.innerHTML = 'Something has gone wrong. Check notebook server for' +\n",
       "                        ' errors.';\n",
       "    }\n",
       "});\n",
       "})(this.parentElement, '/qiime2/redirect?location=/var/folders/v_/4kh0sbdj7234gyfd0scwc_m40000gn/T/qiime2-archive-7s0d43qj')\" src=\"data:image/gif;base64,R0lGODlhAQABAIAAAP///wAAACH5BAEAAAAALAAAAAABAAEAAAICRAEAOw==\" /></div>"
      ],
      "text/plain": [
       "<visualization: Visualization uuid: 179dd440-3422-445e-b582-f3cd16d184cc>"
      ]
     },
     "execution_count": 15,
     "metadata": {},
     "output_type": "execute_result"
    }
   ],
   "source": [
    "!qiime demux summarize \\\n",
    "  --i-data import_data_removeAdapter.qza \\\n",
    "  --o-visualization import_data_removeAdapter.qzv\n",
    "q2.Visualization.load('import_data_removeAdapter.qzv')"
   ]
  },
  {
   "cell_type": "markdown",
   "metadata": {},
   "source": [
    "但其实好像没啥影响，不过这个步骤可以固定，有就去除, 没有就万事大吉。"
   ]
  },
  {
   "cell_type": "markdown",
   "metadata": {},
   "source": [
    "### 质控拼接\n",
    "测序得到原始数据后，由于PCR错误、测序错误等会产生大量的低质量数据或者无生物学意义数据（例如嵌合体）， 因此为保证后续分析具有统计可靠性和生物学有效性，因此必要的质控是必要的，需要去除：\n",
    "\n",
    "- Reads剪裁；\n",
    "- 低质量Reads过滤；\n",
    "- 基于错误率模型序列校正；\n",
    "- Tags去嵌合体。\n",
    "\n",
    "#### Reads剪裁\n",
    "\n",
    "根据上级分析结果，去除接头的数据`import_data_removeAdapter.qza`,根据可视化的界面查看低质量的碱基，这样可以用来制定修剪的长度和位置。"
   ]
  },
  {
   "cell_type": "code",
   "execution_count": 16,
   "metadata": {},
   "outputs": [],
   "source": [
    "# 根据输入数据的质量控制的结果，选择输出reads的去除长度\n",
    "FR_cut_tail=200 #正向reads的尾巴切割位置，equivalent to p-trunc-len-f\n",
    "RR_cut_tail=150 #反向reads的尾巴切割位置，equivalent to p-trunc-len-r\n",
    "FR_cut_head=13 #正向reads的前端切割位置，equivalent to trim-left-f, updated to 0 as primers already stripped\n",
    "RR_cut_head=13 #反向reads的前端切割位置，equivalent to trim-left-r, updated to 0 as primers already stripped\n",
    "Ncore=4"
   ]
  },
  {
   "cell_type": "code",
   "execution_count": 17,
   "metadata": {},
   "outputs": [
    {
     "name": "stdout",
     "output_type": "stream",
     "text": [
      "\u001b[32mSaved FeatureTable[Frequency] to: table.qza\u001b[0m\n",
      "\u001b[32mSaved FeatureData[Sequence] to: rep-seqs.qza\u001b[0m\n",
      "\u001b[32mSaved SampleData[DADA2Stats] to: denoise_stat.qza\u001b[0m\n",
      "\u001b[0m"
     ]
    }
   ],
   "source": [
    "if not os.path.exists(\"denoise_stat.qza\"):\n",
    "    !qiime dada2 denoise-paired \\\n",
    "        --i-demultiplexed-seqs import_data_removeAdapter.qza \\\n",
    "        --p-trunc-len-f {FR_cut_tail} \\\n",
    "        --p-trunc-len-r {RR_cut_tail} \\\n",
    "        --p-trim-left-f {FR_cut_head} \\\n",
    "        --p-trim-left-r {RR_cut_head} \\\n",
    "        --p-n-threads {Ncore} \\\n",
    "        --output-dir dada2_denoise_out \\\n",
    "        --o-table table.qza \\\n",
    "        --o-representative-sequences rep-seqs.qza \\\n",
    "        --o-denoising-stats denoise_stat.qza \n",
    "else:\n",
    "    print(\"Dada2 as already complete\")"
   ]
  },
  {
   "cell_type": "markdown",
   "metadata": {},
   "source": [
    "### 质量统计\n",
    "对各样本过滤前后reads、tag信息统计汇总如下"
   ]
  },
  {
   "cell_type": "code",
   "execution_count": 18,
   "metadata": {
    "scrolled": true,
    "tags": []
   },
   "outputs": [
    {
     "name": "stdout",
     "output_type": "stream",
     "text": [
      "\u001b[32mSaved Visualization to: table.qzv\u001b[0m\n",
      "\u001b[0m"
     ]
    },
    {
     "data": {
      "text/html": [
       "<div><img onload=\"(function(div, url){\n",
       "if (typeof require !== 'undefined') {\n",
       "    var baseURL = require.toUrl('').split('/').slice(0, -2).join('/');\n",
       "} else {\n",
       "    var baseURL = JSON.parse(\n",
       "        document.getElementById('jupyter-config-data').innerHTML\n",
       "    ).baseUrl.slice(0, -1);\n",
       "}\n",
       "url = baseURL + url;\n",
       "fetch(url).then(function(res) {\n",
       "    if (res.status === 404) {\n",
       "        div.innerHTML = 'Install QIIME 2 Jupyter extension with:<br />' +\n",
       "                        '<code>jupyter serverextension enable --py qiime2' +\n",
       "                        ' --sys-prefix</code><br />then restart your server.' +\n",
       "                        '<br /><br />(Interactive output not available on ' +\n",
       "                        'static notebook viewer services like nbviewer.)';\n",
       "    } else if (res.status === 409) {\n",
       "        div.innerHTML = 'Visualization no longer in scope. Re-run this cell' +\n",
       "                        ' to see the visualization.';\n",
       "    } else if (res.ok) {\n",
       "        url = res.url;\n",
       "        div.innerHTML = '<iframe src=\\'' + url + '\\' style=\\'' +\n",
       "                        'width: 100%; height: 700px; border: 0;\\'>' +\n",
       "                        '</iframe><hr />Open in a: <a href=\\'' + url + '\\'' +\n",
       "                        ' target=\\'_blank\\'>new window</a>'\n",
       "    } else {\n",
       "        div.innerHTML = 'Something has gone wrong. Check notebook server for' +\n",
       "                        ' errors.';\n",
       "    }\n",
       "});\n",
       "})(this.parentElement, '/qiime2/redirect?location=/var/folders/v_/4kh0sbdj7234gyfd0scwc_m40000gn/T/qiime2-archive-g46nq0b5')\" src=\"data:image/gif;base64,R0lGODlhAQABAIAAAP///wAAACH5BAEAAAAALAAAAAABAAEAAAICRAEAOw==\" /></div>"
      ],
      "text/plain": [
       "<visualization: Visualization uuid: 482aff1c-a448-461a-96b5-330c46ab1d78>"
      ]
     },
     "execution_count": 18,
     "metadata": {},
     "output_type": "execute_result"
    }
   ],
   "source": [
    "!qiime feature-table summarize \\\n",
    "  --i-table table.qza \\\n",
    "  --o-visualization table.qzv \\\n",
    "  --m-sample-metadata-file {metadata_file}\n",
    "q2.Visualization.load('table.qzv')"
   ]
  },
  {
   "cell_type": "code",
   "execution_count": 19,
   "metadata": {},
   "outputs": [
    {
     "name": "stdout",
     "output_type": "stream",
     "text": [
      "\u001b[32mExported table.qzv as Visualization to directory ../02.Denoise_Cluster/_Tags_Stat\u001b[0m\n",
      "\u001b[32mExported table.qza as BIOMV210DirFmt to directory ../02.Denoise_Cluster\u001b[0m\n",
      "\u001b[0m"
     ]
    }
   ],
   "source": [
    "!qiime tools export --input-path table.qzv --output-path ../{dir2}/_Tags_Stat\n",
    "!qiime tools export --input-path table.qza --output-path ../{dir2}\n",
    "!biom convert -i ../{dir2}/feature-table.biom -o ../{dir2}/feature-table.tsv --to-tsv"
   ]
  },
  {
   "cell_type": "code",
   "execution_count": 20,
   "metadata": {},
   "outputs": [
    {
     "name": "stdout",
     "output_type": "stream",
     "text": [
      "\u001b[32mSaved Visualization to: rep-seqs.qzv\u001b[0m\n",
      "\u001b[0m"
     ]
    },
    {
     "data": {
      "text/html": [
       "<div><img onload=\"(function(div, url){\n",
       "if (typeof require !== 'undefined') {\n",
       "    var baseURL = require.toUrl('').split('/').slice(0, -2).join('/');\n",
       "} else {\n",
       "    var baseURL = JSON.parse(\n",
       "        document.getElementById('jupyter-config-data').innerHTML\n",
       "    ).baseUrl.slice(0, -1);\n",
       "}\n",
       "url = baseURL + url;\n",
       "fetch(url).then(function(res) {\n",
       "    if (res.status === 404) {\n",
       "        div.innerHTML = 'Install QIIME 2 Jupyter extension with:<br />' +\n",
       "                        '<code>jupyter serverextension enable --py qiime2' +\n",
       "                        ' --sys-prefix</code><br />then restart your server.' +\n",
       "                        '<br /><br />(Interactive output not available on ' +\n",
       "                        'static notebook viewer services like nbviewer.)';\n",
       "    } else if (res.status === 409) {\n",
       "        div.innerHTML = 'Visualization no longer in scope. Re-run this cell' +\n",
       "                        ' to see the visualization.';\n",
       "    } else if (res.ok) {\n",
       "        url = res.url;\n",
       "        div.innerHTML = '<iframe src=\\'' + url + '\\' style=\\'' +\n",
       "                        'width: 100%; height: 700px; border: 0;\\'>' +\n",
       "                        '</iframe><hr />Open in a: <a href=\\'' + url + '\\'' +\n",
       "                        ' target=\\'_blank\\'>new window</a>'\n",
       "    } else {\n",
       "        div.innerHTML = 'Something has gone wrong. Check notebook server for' +\n",
       "                        ' errors.';\n",
       "    }\n",
       "});\n",
       "})(this.parentElement, '/qiime2/redirect?location=/var/folders/v_/4kh0sbdj7234gyfd0scwc_m40000gn/T/qiime2-archive-4f4dbqg_')\" src=\"data:image/gif;base64,R0lGODlhAQABAIAAAP///wAAACH5BAEAAAAALAAAAAABAAEAAAICRAEAOw==\" /></div>"
      ],
      "text/plain": [
       "<visualization: Visualization uuid: 6a7b2f60-9831-4fec-99b7-b698d9f304ae>"
      ]
     },
     "execution_count": 20,
     "metadata": {},
     "output_type": "execute_result"
    }
   ],
   "source": [
    "!qiime feature-table tabulate-seqs \\\n",
    "  --i-data rep-seqs.qza \\\n",
    "  --o-visualization rep-seqs.qzv\n",
    "q2.Visualization.load('rep-seqs.qzv')"
   ]
  },
  {
   "cell_type": "code",
   "execution_count": 21,
   "metadata": {},
   "outputs": [
    {
     "name": "stdout",
     "output_type": "stream",
     "text": [
      "\u001b[32mExported rep-seqs.qzv as Visualization to directory ../02.Denoise_Cluster/_Tags_Seq\u001b[0m\n"
     ]
    }
   ],
   "source": [
    "!qiime tools export --input-path rep-seqs.qzv --output-path ../{dir2}/_Tags_Seq"
   ]
  },
  {
   "cell_type": "markdown",
   "metadata": {},
   "source": [
    "## 质控统计"
   ]
  },
  {
   "cell_type": "code",
   "execution_count": 22,
   "metadata": {
    "scrolled": true
   },
   "outputs": [
    {
     "name": "stdout",
     "output_type": "stream",
     "text": [
      "\u001b[32mSaved Visualization to: denoise_stat.qzv\u001b[0m\n",
      "\u001b[0m"
     ]
    },
    {
     "data": {
      "text/html": [
       "<div><img onload=\"(function(div, url){\n",
       "if (typeof require !== 'undefined') {\n",
       "    var baseURL = require.toUrl('').split('/').slice(0, -2).join('/');\n",
       "} else {\n",
       "    var baseURL = JSON.parse(\n",
       "        document.getElementById('jupyter-config-data').innerHTML\n",
       "    ).baseUrl.slice(0, -1);\n",
       "}\n",
       "url = baseURL + url;\n",
       "fetch(url).then(function(res) {\n",
       "    if (res.status === 404) {\n",
       "        div.innerHTML = 'Install QIIME 2 Jupyter extension with:<br />' +\n",
       "                        '<code>jupyter serverextension enable --py qiime2' +\n",
       "                        ' --sys-prefix</code><br />then restart your server.' +\n",
       "                        '<br /><br />(Interactive output not available on ' +\n",
       "                        'static notebook viewer services like nbviewer.)';\n",
       "    } else if (res.status === 409) {\n",
       "        div.innerHTML = 'Visualization no longer in scope. Re-run this cell' +\n",
       "                        ' to see the visualization.';\n",
       "    } else if (res.ok) {\n",
       "        url = res.url;\n",
       "        div.innerHTML = '<iframe src=\\'' + url + '\\' style=\\'' +\n",
       "                        'width: 100%; height: 700px; border: 0;\\'>' +\n",
       "                        '</iframe><hr />Open in a: <a href=\\'' + url + '\\'' +\n",
       "                        ' target=\\'_blank\\'>new window</a>'\n",
       "    } else {\n",
       "        div.innerHTML = 'Something has gone wrong. Check notebook server for' +\n",
       "                        ' errors.';\n",
       "    }\n",
       "});\n",
       "})(this.parentElement, '/qiime2/redirect?location=/var/folders/v_/4kh0sbdj7234gyfd0scwc_m40000gn/T/qiime2-archive-k68tfcf6')\" src=\"data:image/gif;base64,R0lGODlhAQABAIAAAP///wAAACH5BAEAAAAALAAAAAABAAEAAAICRAEAOw==\" /></div>"
      ],
      "text/plain": [
       "<visualization: Visualization uuid: 20ac1f14-71e7-48df-b2a5-2c6c6ccd41bd>"
      ]
     },
     "execution_count": 22,
     "metadata": {},
     "output_type": "execute_result"
    }
   ],
   "source": [
    "!qiime metadata tabulate \\\n",
    "  --m-input-file denoise_stat.qza \\\n",
    "  --o-visualization denoise_stat.qzv\n",
    "q2.Visualization.load('denoise_stat.qzv')"
   ]
  },
  {
   "cell_type": "code",
   "execution_count": 23,
   "metadata": {},
   "outputs": [
    {
     "name": "stdout",
     "output_type": "stream",
     "text": [
      "\u001b[32mExported denoise_stat.qzv as Visualization to directory ../01.DataImport_QC_Filter/_Denoise_stat\u001b[0m\n"
     ]
    }
   ],
   "source": [
    "!qiime tools export --input-path='denoise_stat.qzv' --output-path=../{dir1}/_Denoise_stat"
   ]
  },
  {
   "cell_type": "markdown",
   "metadata": {
    "tags": []
   },
   "source": [
    "## ASV分析\n",
    "\n",
    "使用DADA2质控后产生的每个去重的序列称为ASVs (amplicon sequence variants)， 或称为特征序列(对应于OTU代表序列)，而这些序列在样本中的丰度表称为特征表(对应等同于OTU表)。 以DADA2为代表的去噪生成特征序列的方法是目前主流分析平台(QIIME2和USEARCH)所力推的。获得ASV/OTU之后，利用相关软件，根据其丰度和序列信息，能够逐一开展物种注释、群落多样性、组间差异等多种核心分析。"
   ]
  },
  {
   "cell_type": "markdown",
   "metadata": {},
   "source": [
    "## 物种注释\n",
    "微生物物种分类一般分为界、门、纲、目、科、属、种7个等级，而每个ASV代表某类型分类水平集合。因此根据ASV的序列信息进行物种注释，能将分析结果与实际的生物学意义进行关联，从而研究群落中物种的变化关系等内容。\n",
    "\n",
    "物种注释方法：DADA2在构建ASVs的过程中会选取代表性序列（ASV中丰度最高的那条Tag序列），将这些代表性序列集合用RDP Classifier的Naïve Bayesian assignment算法，与选定的数据库进行物种注释（设定置信度的阈值为0.8~1）。\n",
    "\n",
    "需要先从网站上下载分类模型，网站[链接](https://docs.qiime2.org/2022.2/data-resources/),并给出路径`{classify_file}`。"
   ]
  },
  {
   "cell_type": "code",
   "execution_count": 24,
   "metadata": {},
   "outputs": [
    {
     "name": "stdout",
     "output_type": "stream",
     "text": [
      "\u001b[32mSaved FeatureData[Taxonomy] to: taxonomy.qza\u001b[0m\n",
      "\u001b[0m"
     ]
    }
   ],
   "source": [
    "#Use machine learning to identify your representative sequences against an external database\n",
    "#This step may take a few minutes\n",
    "if not os.path.exists('taxonomy.qza'):\n",
    "    !qiime feature-classifier classify-sklearn \\\n",
    "      --i-classifier {classify_file} \\\n",
    "      --i-reads rep-seqs.qza \\\n",
    "      --o-classification taxonomy.qza\n",
    "else:\n",
    "    print(\"Taxonomy Classify have done!\")"
   ]
  },
  {
   "cell_type": "code",
   "execution_count": 26,
   "metadata": {},
   "outputs": [
    {
     "name": "stdout",
     "output_type": "stream",
     "text": [
      "\u001b[32mExported taxonomy.qza as TSVTaxonomyDirectoryFormat to directory ../03.TaxonomyClassify\u001b[0m\n",
      "\u001b[0m"
     ]
    }
   ],
   "source": [
    "!qiime tools export --input-path=taxonomy.qza --output-path=../{dir3}"
   ]
  },
  {
   "cell_type": "code",
   "execution_count": 27,
   "metadata": {},
   "outputs": [
    {
     "name": "stdout",
     "output_type": "stream",
     "text": [
      "\u001b[32mSaved Visualization to: taxonomy.qzv\u001b[0m\n",
      "\u001b[0m"
     ]
    }
   ],
   "source": [
    "#View the taxonomic designations\n",
    "!qiime metadata tabulate \\\n",
    "  --m-input-file taxonomy.qza \\\n",
    "  --o-visualization taxonomy.qzv"
   ]
  },
  {
   "cell_type": "markdown",
   "metadata": {
    "tags": []
   },
   "source": [
    "### 微生物表达总表\n",
    "\n",
    "- ASV的表达总表在[02.Denoise_Cluster/feature-table.tsv](02.Denoise_Cluster/feature-table.tsv)\n",
    "- ASV的注释总表在[03.TaxonomyClassify/taxonomy.tsv ](03.TaxonomyClassify/taxonomy.tsv)\n",
    "- ASV的序列在[02.Denoise_Cluster/_Tags_Seq/sequences.fasta](02.Denoise_Cluster/_Tags_Seq/sequences.fasta)"
   ]
  },
  {
   "cell_type": "code",
   "execution_count": 28,
   "metadata": {},
   "outputs": [],
   "source": [
    "import pysam\n",
    "with pysam.FastxFile(\"../\"+dir2+\"/_Tags_Seq/sequences.fasta\") as fa, open(\"../\"+dir3+\"/ASV_sequences.tsv\",\"w\") as out:\n",
    "    for read in fa:\n",
    "        out.write(read.name+\"\\t\"+read.sequence+\"\\n\")"
   ]
  },
  {
   "cell_type": "code",
   "execution_count": 29,
   "metadata": {},
   "outputs": [
    {
     "name": "stderr",
     "output_type": "stream",
     "text": [
      "R[write to console]: 载入需要的程辑包：tidyverse\n",
      "\n",
      "R[write to console]: ── Attaching packages ─────────────────────────────────────── tidyverse 1.3.1 ──\n",
      "\n",
      "R[write to console]: ✔ ggplot2 3.3.5     ✔ purrr   0.3.4\n",
      "✔ tibble  3.1.6     ✔ dplyr   1.0.8\n",
      "✔ tidyr   1.2.0     ✔ stringr 1.4.0\n",
      "✔ readr   2.1.2     ✔ forcats 0.5.1\n",
      "\n",
      "R[write to console]: ── Conflicts ────────────────────────────────────────── tidyverse_conflicts() ──\n",
      "✖ dplyr::filter() masks stats::filter()\n",
      "✖ dplyr::lag()    masks stats::lag()\n",
      "\n"
     ]
    }
   ],
   "source": [
    "%%R -i dir2  -i dir3\n",
    "require(tidyverse)\n",
    "data_exp = read_tsv(paste(\"../\",{dir2},\"/feature-table.tsv\",sep = \"\"),comment = \"# \",show_col_types = FALSE)\n",
    "data_taxa = read_tsv(paste(\"../\",{dir3},\"/taxonomy.tsv\",sep = \"\"),show_col_types = FALSE)\n",
    "data_seq = read_tsv(paste(\"../\",{dir3},\"/ASV_sequences.tsv\",sep = \"\"),col_names = F,show_col_types = FALSE)\n",
    "colnames(data_exp)[1] = colnames(data_taxa)[1]\n",
    "colnames(data_seq) = c(colnames(data_taxa)[1],\"sequence\")\n",
    "tmp = left_join(data_exp,data_taxa,by  = colnames(data_taxa)[1])\n",
    "final_data = left_join(tmp,data_seq,by  = colnames(data_taxa)[1])\n",
    "write_tsv(final_data,paste(\"../\",{dir3},\"/Taxonomy_exp_seq.tsv\",sep = \"\"))"
   ]
  },
  {
   "cell_type": "markdown",
   "metadata": {},
   "source": [
    "最终展现的的统计表格如下："
   ]
  },
  {
   "cell_type": "code",
   "execution_count": 30,
   "metadata": {},
   "outputs": [
    {
     "data": {
      "text/html": [
       "<div>\n",
       "<style scoped>\n",
       "    .dataframe tbody tr th:only-of-type {\n",
       "        vertical-align: middle;\n",
       "    }\n",
       "\n",
       "    .dataframe tbody tr th {\n",
       "        vertical-align: top;\n",
       "    }\n",
       "\n",
       "    .dataframe thead th {\n",
       "        text-align: right;\n",
       "    }\n",
       "</style>\n",
       "<table border=\"1\" class=\"dataframe\">\n",
       "  <thead>\n",
       "    <tr style=\"text-align: right;\">\n",
       "      <th></th>\n",
       "      <th>Feature ID</th>\n",
       "      <th>F3D0</th>\n",
       "      <th>F3D1</th>\n",
       "      <th>F3D141</th>\n",
       "      <th>F3D142</th>\n",
       "      <th>F3D143</th>\n",
       "      <th>F3D144</th>\n",
       "      <th>F3D145</th>\n",
       "      <th>F3D146</th>\n",
       "      <th>F3D147</th>\n",
       "      <th>...</th>\n",
       "      <th>F3D2</th>\n",
       "      <th>F3D3</th>\n",
       "      <th>F3D5</th>\n",
       "      <th>F3D6</th>\n",
       "      <th>F3D7</th>\n",
       "      <th>F3D8</th>\n",
       "      <th>F3D9</th>\n",
       "      <th>Taxon</th>\n",
       "      <th>Confidence</th>\n",
       "      <th>sequence</th>\n",
       "    </tr>\n",
       "  </thead>\n",
       "  <tbody>\n",
       "    <tr>\n",
       "      <th>0</th>\n",
       "      <td>40394bfe4a2f991e0651e5a311f3ee24</td>\n",
       "      <td>593</td>\n",
       "      <td>426</td>\n",
       "      <td>453</td>\n",
       "      <td>298</td>\n",
       "      <td>238</td>\n",
       "      <td>439</td>\n",
       "      <td>656</td>\n",
       "      <td>323</td>\n",
       "      <td>1543</td>\n",
       "      <td>...</td>\n",
       "      <td>3592</td>\n",
       "      <td>1009</td>\n",
       "      <td>328</td>\n",
       "      <td>1040</td>\n",
       "      <td>662</td>\n",
       "      <td>287</td>\n",
       "      <td>524</td>\n",
       "      <td>d__Bacteria; p__Bacteroidota; c__Bacteroidia; ...</td>\n",
       "      <td>0.999999</td>\n",
       "      <td>AGCGTTATCCGGATTTATTGGGTTTAAAGGGTGCGCAGGCGGAAGA...</td>\n",
       "    </tr>\n",
       "    <tr>\n",
       "      <th>1</th>\n",
       "      <td>a653d2e8c495970f57c1fc1d8d5a3eb8</td>\n",
       "      <td>351</td>\n",
       "      <td>357</td>\n",
       "      <td>369</td>\n",
       "      <td>307</td>\n",
       "      <td>177</td>\n",
       "      <td>288</td>\n",
       "      <td>501</td>\n",
       "      <td>235</td>\n",
       "      <td>1244</td>\n",
       "      <td>...</td>\n",
       "      <td>1622</td>\n",
       "      <td>615</td>\n",
       "      <td>271</td>\n",
       "      <td>686</td>\n",
       "      <td>508</td>\n",
       "      <td>355</td>\n",
       "      <td>433</td>\n",
       "      <td>d__Bacteria; p__Bacteroidota; c__Bacteroidia; ...</td>\n",
       "      <td>0.905046</td>\n",
       "      <td>AGCGTTATCCGGATTTATTGGGTTTAAAGGGTGCGCAGGCGGACTC...</td>\n",
       "    </tr>\n",
       "    <tr>\n",
       "      <th>2</th>\n",
       "      <td>d43ed378a846746647619025dcb17b10</td>\n",
       "      <td>455</td>\n",
       "      <td>235</td>\n",
       "      <td>338</td>\n",
       "      <td>157</td>\n",
       "      <td>211</td>\n",
       "      <td>302</td>\n",
       "      <td>535</td>\n",
       "      <td>263</td>\n",
       "      <td>931</td>\n",
       "      <td>...</td>\n",
       "      <td>1204</td>\n",
       "      <td>484</td>\n",
       "      <td>281</td>\n",
       "      <td>597</td>\n",
       "      <td>449</td>\n",
       "      <td>353</td>\n",
       "      <td>490</td>\n",
       "      <td>d__Bacteria; p__Bacteroidota; c__Bacteroidia; ...</td>\n",
       "      <td>0.980320</td>\n",
       "      <td>AGCGTTATCCGGATTTATTGGGTTTAAAGGGTGCGTAGGCGGGCTG...</td>\n",
       "    </tr>\n",
       "    <tr>\n",
       "      <th>3</th>\n",
       "      <td>e176441fb5064973ee3a5222838d750b</td>\n",
       "      <td>449</td>\n",
       "      <td>75</td>\n",
       "      <td>522</td>\n",
       "      <td>170</td>\n",
       "      <td>236</td>\n",
       "      <td>365</td>\n",
       "      <td>602</td>\n",
       "      <td>407</td>\n",
       "      <td>1126</td>\n",
       "      <td>...</td>\n",
       "      <td>479</td>\n",
       "      <td>208</td>\n",
       "      <td>165</td>\n",
       "      <td>411</td>\n",
       "      <td>319</td>\n",
       "      <td>151</td>\n",
       "      <td>215</td>\n",
       "      <td>d__Bacteria; p__Bacteroidota; c__Bacteroidia; ...</td>\n",
       "      <td>0.996699</td>\n",
       "      <td>AGCGTTATCCGGATTTATTGGGTTTAAAGGGTGCGTAGGCGGGCTT...</td>\n",
       "    </tr>\n",
       "    <tr>\n",
       "      <th>4</th>\n",
       "      <td>c27f7abd3abc4f5086d6019c9ef2e0d5</td>\n",
       "      <td>178</td>\n",
       "      <td>142</td>\n",
       "      <td>222</td>\n",
       "      <td>223</td>\n",
       "      <td>135</td>\n",
       "      <td>153</td>\n",
       "      <td>400</td>\n",
       "      <td>216</td>\n",
       "      <td>594</td>\n",
       "      <td>...</td>\n",
       "      <td>392</td>\n",
       "      <td>480</td>\n",
       "      <td>154</td>\n",
       "      <td>550</td>\n",
       "      <td>566</td>\n",
       "      <td>603</td>\n",
       "      <td>666</td>\n",
       "      <td>d__Bacteria; p__Bacteroidota; c__Bacteroidia; ...</td>\n",
       "      <td>1.000000</td>\n",
       "      <td>AGCGTTATCCGGATTTATTGGGTTTAAAGGGAGCGTAGGTGGATTG...</td>\n",
       "    </tr>\n",
       "    <tr>\n",
       "      <th>...</th>\n",
       "      <td>...</td>\n",
       "      <td>...</td>\n",
       "      <td>...</td>\n",
       "      <td>...</td>\n",
       "      <td>...</td>\n",
       "      <td>...</td>\n",
       "      <td>...</td>\n",
       "      <td>...</td>\n",
       "      <td>...</td>\n",
       "      <td>...</td>\n",
       "      <td>...</td>\n",
       "      <td>...</td>\n",
       "      <td>...</td>\n",
       "      <td>...</td>\n",
       "      <td>...</td>\n",
       "      <td>...</td>\n",
       "      <td>...</td>\n",
       "      <td>...</td>\n",
       "      <td>...</td>\n",
       "      <td>...</td>\n",
       "      <td>...</td>\n",
       "    </tr>\n",
       "    <tr>\n",
       "      <th>215</th>\n",
       "      <td>6843c27a57bd50b0a45229b64bade573</td>\n",
       "      <td>4</td>\n",
       "      <td>0</td>\n",
       "      <td>0</td>\n",
       "      <td>0</td>\n",
       "      <td>0</td>\n",
       "      <td>0</td>\n",
       "      <td>0</td>\n",
       "      <td>0</td>\n",
       "      <td>0</td>\n",
       "      <td>...</td>\n",
       "      <td>0</td>\n",
       "      <td>0</td>\n",
       "      <td>0</td>\n",
       "      <td>0</td>\n",
       "      <td>0</td>\n",
       "      <td>0</td>\n",
       "      <td>0</td>\n",
       "      <td>d__Bacteria; p__Firmicutes; c__Clostridia; o__...</td>\n",
       "      <td>0.986823</td>\n",
       "      <td>AGCGTTGTCCGGAATGACTGGGCGTAAAGGGAGTGTAGGCGGCCTT...</td>\n",
       "    </tr>\n",
       "    <tr>\n",
       "      <th>216</th>\n",
       "      <td>cb80b54178ea1877ec0929b98f72ec69</td>\n",
       "      <td>0</td>\n",
       "      <td>0</td>\n",
       "      <td>0</td>\n",
       "      <td>0</td>\n",
       "      <td>0</td>\n",
       "      <td>0</td>\n",
       "      <td>0</td>\n",
       "      <td>0</td>\n",
       "      <td>4</td>\n",
       "      <td>...</td>\n",
       "      <td>0</td>\n",
       "      <td>0</td>\n",
       "      <td>0</td>\n",
       "      <td>0</td>\n",
       "      <td>0</td>\n",
       "      <td>0</td>\n",
       "      <td>0</td>\n",
       "      <td>d__Bacteria; p__Actinobacteriota; c__Coriobact...</td>\n",
       "      <td>0.964198</td>\n",
       "      <td>AGCGTTATCCGGATTCATTGGGCGTAAAGCGCGCGTAGGCGGCCTG...</td>\n",
       "    </tr>\n",
       "    <tr>\n",
       "      <th>217</th>\n",
       "      <td>40601bb335e898d24650af8d1221c7cc</td>\n",
       "      <td>0</td>\n",
       "      <td>0</td>\n",
       "      <td>0</td>\n",
       "      <td>0</td>\n",
       "      <td>0</td>\n",
       "      <td>0</td>\n",
       "      <td>0</td>\n",
       "      <td>0</td>\n",
       "      <td>0</td>\n",
       "      <td>...</td>\n",
       "      <td>0</td>\n",
       "      <td>0</td>\n",
       "      <td>0</td>\n",
       "      <td>0</td>\n",
       "      <td>0</td>\n",
       "      <td>0</td>\n",
       "      <td>0</td>\n",
       "      <td>d__Bacteria; p__Firmicutes; c__Bacilli; o__RF3...</td>\n",
       "      <td>0.993946</td>\n",
       "      <td>AGCGTTATCCGGATTTATTGGGCGTAAAGCGTGCGCAGGCGGTTTG...</td>\n",
       "    </tr>\n",
       "    <tr>\n",
       "      <th>218</th>\n",
       "      <td>2e60a2b63ef994fe9a9f8de5efe538c2</td>\n",
       "      <td>0</td>\n",
       "      <td>0</td>\n",
       "      <td>0</td>\n",
       "      <td>0</td>\n",
       "      <td>0</td>\n",
       "      <td>0</td>\n",
       "      <td>0</td>\n",
       "      <td>0</td>\n",
       "      <td>0</td>\n",
       "      <td>...</td>\n",
       "      <td>4</td>\n",
       "      <td>0</td>\n",
       "      <td>0</td>\n",
       "      <td>0</td>\n",
       "      <td>0</td>\n",
       "      <td>0</td>\n",
       "      <td>0</td>\n",
       "      <td>d__Bacteria; p__Firmicutes; c__Bacilli; o__Lac...</td>\n",
       "      <td>1.000000</td>\n",
       "      <td>AGCGTTGTCCGGATTTATTGGGCGTAAAGCGAGCGCAGGCGGTTTG...</td>\n",
       "    </tr>\n",
       "    <tr>\n",
       "      <th>219</th>\n",
       "      <td>7b6eb693abd6686502ab2c7eebd48d4d</td>\n",
       "      <td>0</td>\n",
       "      <td>0</td>\n",
       "      <td>0</td>\n",
       "      <td>0</td>\n",
       "      <td>0</td>\n",
       "      <td>0</td>\n",
       "      <td>3</td>\n",
       "      <td>0</td>\n",
       "      <td>0</td>\n",
       "      <td>...</td>\n",
       "      <td>0</td>\n",
       "      <td>0</td>\n",
       "      <td>0</td>\n",
       "      <td>0</td>\n",
       "      <td>0</td>\n",
       "      <td>0</td>\n",
       "      <td>0</td>\n",
       "      <td>d__Bacteria; p__Deinococcota; c__Deinococci; o...</td>\n",
       "      <td>0.999482</td>\n",
       "      <td>AGCGTTACCCGGAATCACTGGGCGTAAAGGGCGTGTAGGCGGAAAT...</td>\n",
       "    </tr>\n",
       "  </tbody>\n",
       "</table>\n",
       "<p>220 rows × 23 columns</p>\n",
       "</div>"
      ],
      "text/plain": [
       "                           Feature ID  F3D0  F3D1  F3D141  F3D142  F3D143  \\\n",
       "0    40394bfe4a2f991e0651e5a311f3ee24   593   426     453     298     238   \n",
       "1    a653d2e8c495970f57c1fc1d8d5a3eb8   351   357     369     307     177   \n",
       "2    d43ed378a846746647619025dcb17b10   455   235     338     157     211   \n",
       "3    e176441fb5064973ee3a5222838d750b   449    75     522     170     236   \n",
       "4    c27f7abd3abc4f5086d6019c9ef2e0d5   178   142     222     223     135   \n",
       "..                                ...   ...   ...     ...     ...     ...   \n",
       "215  6843c27a57bd50b0a45229b64bade573     4     0       0       0       0   \n",
       "216  cb80b54178ea1877ec0929b98f72ec69     0     0       0       0       0   \n",
       "217  40601bb335e898d24650af8d1221c7cc     0     0       0       0       0   \n",
       "218  2e60a2b63ef994fe9a9f8de5efe538c2     0     0       0       0       0   \n",
       "219  7b6eb693abd6686502ab2c7eebd48d4d     0     0       0       0       0   \n",
       "\n",
       "     F3D144  F3D145  F3D146  F3D147  ...  F3D2  F3D3  F3D5  F3D6  F3D7  F3D8  \\\n",
       "0       439     656     323    1543  ...  3592  1009   328  1040   662   287   \n",
       "1       288     501     235    1244  ...  1622   615   271   686   508   355   \n",
       "2       302     535     263     931  ...  1204   484   281   597   449   353   \n",
       "3       365     602     407    1126  ...   479   208   165   411   319   151   \n",
       "4       153     400     216     594  ...   392   480   154   550   566   603   \n",
       "..      ...     ...     ...     ...  ...   ...   ...   ...   ...   ...   ...   \n",
       "215       0       0       0       0  ...     0     0     0     0     0     0   \n",
       "216       0       0       0       4  ...     0     0     0     0     0     0   \n",
       "217       0       0       0       0  ...     0     0     0     0     0     0   \n",
       "218       0       0       0       0  ...     4     0     0     0     0     0   \n",
       "219       0       3       0       0  ...     0     0     0     0     0     0   \n",
       "\n",
       "     F3D9                                              Taxon  Confidence  \\\n",
       "0     524  d__Bacteria; p__Bacteroidota; c__Bacteroidia; ...    0.999999   \n",
       "1     433  d__Bacteria; p__Bacteroidota; c__Bacteroidia; ...    0.905046   \n",
       "2     490  d__Bacteria; p__Bacteroidota; c__Bacteroidia; ...    0.980320   \n",
       "3     215  d__Bacteria; p__Bacteroidota; c__Bacteroidia; ...    0.996699   \n",
       "4     666  d__Bacteria; p__Bacteroidota; c__Bacteroidia; ...    1.000000   \n",
       "..    ...                                                ...         ...   \n",
       "215     0  d__Bacteria; p__Firmicutes; c__Clostridia; o__...    0.986823   \n",
       "216     0  d__Bacteria; p__Actinobacteriota; c__Coriobact...    0.964198   \n",
       "217     0  d__Bacteria; p__Firmicutes; c__Bacilli; o__RF3...    0.993946   \n",
       "218     0  d__Bacteria; p__Firmicutes; c__Bacilli; o__Lac...    1.000000   \n",
       "219     0  d__Bacteria; p__Deinococcota; c__Deinococci; o...    0.999482   \n",
       "\n",
       "                                              sequence  \n",
       "0    AGCGTTATCCGGATTTATTGGGTTTAAAGGGTGCGCAGGCGGAAGA...  \n",
       "1    AGCGTTATCCGGATTTATTGGGTTTAAAGGGTGCGCAGGCGGACTC...  \n",
       "2    AGCGTTATCCGGATTTATTGGGTTTAAAGGGTGCGTAGGCGGGCTG...  \n",
       "3    AGCGTTATCCGGATTTATTGGGTTTAAAGGGTGCGTAGGCGGGCTT...  \n",
       "4    AGCGTTATCCGGATTTATTGGGTTTAAAGGGAGCGTAGGTGGATTG...  \n",
       "..                                                 ...  \n",
       "215  AGCGTTGTCCGGAATGACTGGGCGTAAAGGGAGTGTAGGCGGCCTT...  \n",
       "216  AGCGTTATCCGGATTCATTGGGCGTAAAGCGCGCGTAGGCGGCCTG...  \n",
       "217  AGCGTTATCCGGATTTATTGGGCGTAAAGCGTGCGCAGGCGGTTTG...  \n",
       "218  AGCGTTGTCCGGATTTATTGGGCGTAAAGCGAGCGCAGGCGGTTTG...  \n",
       "219  AGCGTTACCCGGAATCACTGGGCGTAAAGGGCGTGTAGGCGGAAAT...  \n",
       "\n",
       "[220 rows x 23 columns]"
      ]
     },
     "execution_count": 30,
     "metadata": {},
     "output_type": "execute_result"
    }
   ],
   "source": [
    "pd.read_csv(\"../\"+dir3+\"/Taxonomy_exp_seq.tsv\",sep = \"\\t\")"
   ]
  },
  {
   "cell_type": "markdown",
   "metadata": {},
   "source": [
    "可以通过预览物种堆叠图快速了解微生物的在样本中的组成"
   ]
  },
  {
   "cell_type": "code",
   "execution_count": 31,
   "metadata": {},
   "outputs": [
    {
     "name": "stdout",
     "output_type": "stream",
     "text": [
      "\u001b[32mSaved Visualization to: taxa-bar-plots.qzv\u001b[0m\n",
      "\u001b[0m"
     ]
    },
    {
     "data": {
      "text/html": [
       "<div><img onload=\"(function(div, url){\n",
       "if (typeof require !== 'undefined') {\n",
       "    var baseURL = require.toUrl('').split('/').slice(0, -2).join('/');\n",
       "} else {\n",
       "    var baseURL = JSON.parse(\n",
       "        document.getElementById('jupyter-config-data').innerHTML\n",
       "    ).baseUrl.slice(0, -1);\n",
       "}\n",
       "url = baseURL + url;\n",
       "fetch(url).then(function(res) {\n",
       "    if (res.status === 404) {\n",
       "        div.innerHTML = 'Install QIIME 2 Jupyter extension with:<br />' +\n",
       "                        '<code>jupyter serverextension enable --py qiime2' +\n",
       "                        ' --sys-prefix</code><br />then restart your server.' +\n",
       "                        '<br /><br />(Interactive output not available on ' +\n",
       "                        'static notebook viewer services like nbviewer.)';\n",
       "    } else if (res.status === 409) {\n",
       "        div.innerHTML = 'Visualization no longer in scope. Re-run this cell' +\n",
       "                        ' to see the visualization.';\n",
       "    } else if (res.ok) {\n",
       "        url = res.url;\n",
       "        div.innerHTML = '<iframe src=\\'' + url + '\\' style=\\'' +\n",
       "                        'width: 100%; height: 700px; border: 0;\\'>' +\n",
       "                        '</iframe><hr />Open in a: <a href=\\'' + url + '\\'' +\n",
       "                        ' target=\\'_blank\\'>new window</a>'\n",
       "    } else {\n",
       "        div.innerHTML = 'Something has gone wrong. Check notebook server for' +\n",
       "                        ' errors.';\n",
       "    }\n",
       "});\n",
       "})(this.parentElement, '/qiime2/redirect?location=/var/folders/v_/4kh0sbdj7234gyfd0scwc_m40000gn/T/qiime2-archive-xck4ufz8')\" src=\"data:image/gif;base64,R0lGODlhAQABAIAAAP///wAAACH5BAEAAAAALAAAAAABAAEAAAICRAEAOw==\" /></div>"
      ],
      "text/plain": [
       "<visualization: Visualization uuid: 323222eb-362a-4a35-bc5b-189256a29133>"
      ]
     },
     "execution_count": 31,
     "metadata": {},
     "output_type": "execute_result"
    }
   ],
   "source": [
    "#View the taxonomic composition of each sample in an interactive bar plot\n",
    "!qiime taxa barplot \\\n",
    "  --i-table table.qza \\\n",
    "  --i-taxonomy taxonomy.qza \\\n",
    "  --m-metadata-file  {metadata_file} \\\n",
    "  --o-visualization taxa-bar-plots.qzv\n",
    "q2.Visualization.load('taxa-bar-plots.qzv')"
   ]
  },
  {
   "cell_type": "markdown",
   "metadata": {},
   "source": [
    "根据ASV的物种注释信息，统计每个样品在各个分类水平（界门纲目科属种）上的Tags序列数目， 并绘制柱状图，详细信息如下所示。"
   ]
  },
  {
   "cell_type": "markdown",
   "metadata": {},
   "source": [
    "## 菌种距离矩阵分析\n",
    "\n",
    "在计算样本在微生物群落的多样性的时候，除了需要菌群表达信息，还需要考虑ASV之间的遗传进化关系，同时根据考虑ASV丰度的区别， 常用的距离计算指标有：\n",
    "Unweighted-Unifrac、Weighted-Unifrac、Bray–Curtis以及Jaccard指数等。\n",
    "\n",
    "根据有没有考虑ASV丰度的区别， 可分为加权（Weighted Unifrac）和非加权（Unweighted Unifrac）两种方法。 其中Unweighted UniFrac只考虑了物种有无的变化，而Weighted UniFrac则同时考虑物种有无和物种丰度的变化。 因此在实际分析中，结合两种Unifrac分析方法，能更有效发现样本之间的结构差异信息。"
   ]
  },
  {
   "cell_type": "code",
   "execution_count": 32,
   "metadata": {},
   "outputs": [
    {
     "name": "stdout",
     "output_type": "stream",
     "text": [
      "\u001b[32mSaved FeatureData[AlignedSequence] to: aligned-rep-seqs.qza\u001b[0m\n",
      "\u001b[32mSaved FeatureData[AlignedSequence] to: masked-aligned-rep-seqs.qza\u001b[0m\n",
      "\u001b[32mSaved Phylogeny[Unrooted] to: unrooted-tree.qza\u001b[0m\n",
      "\u001b[32mSaved Phylogeny[Rooted] to: rooted-tree.qza\u001b[0m\n",
      "\u001b[0m"
     ]
    }
   ],
   "source": [
    "# Step5 phylogeny tree and distance matrix\n",
    "!qiime phylogeny align-to-tree-mafft-fasttree \\\n",
    "  --i-sequences rep-seqs.qza \\\n",
    "  --o-alignment aligned-rep-seqs.qza \\\n",
    "  --o-masked-alignment masked-aligned-rep-seqs.qza \\\n",
    "  --o-tree unrooted-tree.qza \\\n",
    "  --o-rooted-tree rooted-tree.qza"
   ]
  },
  {
   "cell_type": "markdown",
   "metadata": {
    "tags": []
   },
   "source": [
    "## Alpha多样性分析\n",
    "α多样性是指特定生境或者生态系统内的多样性情况，它可以指示生境被物种隔离的程度，通常利用物种丰富度（种类情况） 与物种均匀度（分布情况）两个重要参数来计算。指标很多，qiime2只默认计算稀释曲线，faith_pd，shannon，evenness，observed这几种。"
   ]
  },
  {
   "cell_type": "code",
   "execution_count": 33,
   "metadata": {},
   "outputs": [
    {
     "name": "stdout",
     "output_type": "stream",
     "text": [
      "\u001b[32mSaved FeatureTable[Frequency] to: core-metrics-results/rarefied_table.qza\u001b[0m\n",
      "\u001b[32mSaved SampleData[AlphaDiversity] to: core-metrics-results/faith_pd_vector.qza\u001b[0m\n",
      "\u001b[32mSaved SampleData[AlphaDiversity] to: core-metrics-results/observed_features_vector.qza\u001b[0m\n",
      "\u001b[32mSaved SampleData[AlphaDiversity] to: core-metrics-results/shannon_vector.qza\u001b[0m\n",
      "\u001b[32mSaved SampleData[AlphaDiversity] to: core-metrics-results/evenness_vector.qza\u001b[0m\n",
      "\u001b[32mSaved DistanceMatrix to: core-metrics-results/unweighted_unifrac_distance_matrix.qza\u001b[0m\n",
      "\u001b[32mSaved DistanceMatrix to: core-metrics-results/weighted_unifrac_distance_matrix.qza\u001b[0m\n",
      "\u001b[32mSaved DistanceMatrix to: core-metrics-results/jaccard_distance_matrix.qza\u001b[0m\n",
      "\u001b[32mSaved DistanceMatrix to: core-metrics-results/bray_curtis_distance_matrix.qza\u001b[0m\n",
      "\u001b[32mSaved PCoAResults to: core-metrics-results/unweighted_unifrac_pcoa_results.qza\u001b[0m\n",
      "\u001b[32mSaved PCoAResults to: core-metrics-results/weighted_unifrac_pcoa_results.qza\u001b[0m\n",
      "\u001b[32mSaved PCoAResults to: core-metrics-results/jaccard_pcoa_results.qza\u001b[0m\n",
      "\u001b[32mSaved PCoAResults to: core-metrics-results/bray_curtis_pcoa_results.qza\u001b[0m\n",
      "\u001b[32mSaved Visualization to: core-metrics-results/unweighted_unifrac_emperor.qzv\u001b[0m\n",
      "\u001b[32mSaved Visualization to: core-metrics-results/weighted_unifrac_emperor.qzv\u001b[0m\n",
      "\u001b[32mSaved Visualization to: core-metrics-results/jaccard_emperor.qzv\u001b[0m\n",
      "\u001b[32mSaved Visualization to: core-metrics-results/bray_curtis_emperor.qzv\u001b[0m\n",
      "\u001b[0m"
     ]
    }
   ],
   "source": [
    "# Step6 alpha diversity analysis\n",
    "!qiime diversity core-metrics-phylogenetic \\\n",
    "  --i-phylogeny rooted-tree.qza \\\n",
    "  --i-table table.qza \\\n",
    "  --p-sampling-depth 2000 \\\n",
    "  --m-metadata-file {metadata_file} \\\n",
    "  --output-dir core-metrics-results"
   ]
  },
  {
   "cell_type": "code",
   "execution_count": 34,
   "metadata": {},
   "outputs": [
    {
     "name": "stdout",
     "output_type": "stream",
     "text": [
      "\u001b[32mExported core-metrics-results/faith_pd_vector.qza as AlphaDiversityDirectoryFormat to directory ../05.Alpha_diversity/faith_pd\u001b[0m\n",
      "\u001b[0m\u001b[32mExported core-metrics-results/observed_features_vector.qza as AlphaDiversityDirectoryFormat to directory ../05.Alpha_diversity/observed\u001b[0m\n",
      "\u001b[0m\u001b[32mExported core-metrics-results/evenness_vector.qza as AlphaDiversityDirectoryFormat to directory ../05.Alpha_diversity/evenness\u001b[0m\n",
      "\u001b[0m\u001b[32mExported core-metrics-results/shannon_vector.qza as AlphaDiversityDirectoryFormat to directory ../05.Alpha_diversity/shannon\u001b[0m\n",
      "\u001b[0m"
     ]
    }
   ],
   "source": [
    "#!qiime tools export --input-path=core-metrics-results/rarefied_table.qza --output-path=../{dir5}/rarefied\n",
    "!qiime tools export --input-path=core-metrics-results/faith_pd_vector.qza --output-path=../{dir5}/faith_pd\n",
    "!qiime tools export --input-path=core-metrics-results/observed_features_vector.qza --output-path=../{dir5}/observed\n",
    "!qiime tools export --input-path=core-metrics-results/evenness_vector.qza --output-path=../{dir5}/evenness\n",
    "!qiime tools export --input-path=core-metrics-results/shannon_vector.qza --output-path=../{dir5}/shannon"
   ]
  },
  {
   "cell_type": "code",
   "execution_count": 35,
   "metadata": {},
   "outputs": [],
   "source": [
    "%%R -i dir5 -i metadata_file\n",
    "data = read.table(metadata_file,row.names = 1,header = T)\n",
    "for(path in list.files(list.dirs(paste(\"../\",dir5,sep = \"\")),pattern = \"*.tsv\",full.names = TRUE)){\n",
    "    tmp = read.table(path,row.names = 1,header = T)\n",
    "    data = cbind(data,tmp)\n",
    "}\n",
    "write.csv(data,paste(\"../\",dir5,\"/summary_alpha_diversity.csv\",sep = \"\"))"
   ]
  },
  {
   "cell_type": "code",
   "execution_count": 36,
   "metadata": {},
   "outputs": [
    {
     "data": {
      "text/html": [
       "<div>\n",
       "<style scoped>\n",
       "    .dataframe tbody tr th:only-of-type {\n",
       "        vertical-align: middle;\n",
       "    }\n",
       "\n",
       "    .dataframe tbody tr th {\n",
       "        vertical-align: top;\n",
       "    }\n",
       "\n",
       "    .dataframe thead th {\n",
       "        text-align: right;\n",
       "    }\n",
       "</style>\n",
       "<table border=\"1\" class=\"dataframe\">\n",
       "  <thead>\n",
       "    <tr style=\"text-align: right;\">\n",
       "      <th></th>\n",
       "      <th>Unnamed: 0</th>\n",
       "      <th>time</th>\n",
       "      <th>dpw</th>\n",
       "      <th>pielou_evenness</th>\n",
       "      <th>faith_pd</th>\n",
       "      <th>observed_features</th>\n",
       "      <th>shannon_entropy</th>\n",
       "    </tr>\n",
       "  </thead>\n",
       "  <tbody>\n",
       "    <tr>\n",
       "      <th>0</th>\n",
       "      <td>F3D0</td>\n",
       "      <td>Early</td>\n",
       "      <td>0</td>\n",
       "      <td>0.839872</td>\n",
       "      <td>6.848429</td>\n",
       "      <td>98</td>\n",
       "      <td>5.555509</td>\n",
       "    </tr>\n",
       "    <tr>\n",
       "      <th>1</th>\n",
       "      <td>F3D1</td>\n",
       "      <td>Early</td>\n",
       "      <td>1</td>\n",
       "      <td>0.869344</td>\n",
       "      <td>6.902300</td>\n",
       "      <td>99</td>\n",
       "      <td>5.763192</td>\n",
       "    </tr>\n",
       "    <tr>\n",
       "      <th>2</th>\n",
       "      <td>F3D141</td>\n",
       "      <td>Late</td>\n",
       "      <td>141</td>\n",
       "      <td>0.790978</td>\n",
       "      <td>6.223620</td>\n",
       "      <td>77</td>\n",
       "      <td>4.956888</td>\n",
       "    </tr>\n",
       "    <tr>\n",
       "      <th>3</th>\n",
       "      <td>F3D142</td>\n",
       "      <td>Late</td>\n",
       "      <td>142</td>\n",
       "      <td>0.805085</td>\n",
       "      <td>5.488893</td>\n",
       "      <td>50</td>\n",
       "      <td>4.543787</td>\n",
       "    </tr>\n",
       "    <tr>\n",
       "      <th>4</th>\n",
       "      <td>F3D143</td>\n",
       "      <td>Late</td>\n",
       "      <td>143</td>\n",
       "      <td>0.817669</td>\n",
       "      <td>5.134559</td>\n",
       "      <td>59</td>\n",
       "      <td>4.810057</td>\n",
       "    </tr>\n",
       "    <tr>\n",
       "      <th>5</th>\n",
       "      <td>F3D144</td>\n",
       "      <td>Late</td>\n",
       "      <td>144</td>\n",
       "      <td>0.770699</td>\n",
       "      <td>5.456914</td>\n",
       "      <td>55</td>\n",
       "      <td>4.455691</td>\n",
       "    </tr>\n",
       "    <tr>\n",
       "      <th>6</th>\n",
       "      <td>F3D145</td>\n",
       "      <td>Late</td>\n",
       "      <td>145</td>\n",
       "      <td>0.737855</td>\n",
       "      <td>6.381842</td>\n",
       "      <td>68</td>\n",
       "      <td>4.491663</td>\n",
       "    </tr>\n",
       "    <tr>\n",
       "      <th>7</th>\n",
       "      <td>F3D146</td>\n",
       "      <td>Late</td>\n",
       "      <td>146</td>\n",
       "      <td>0.818636</td>\n",
       "      <td>6.089748</td>\n",
       "      <td>85</td>\n",
       "      <td>5.246960</td>\n",
       "    </tr>\n",
       "    <tr>\n",
       "      <th>8</th>\n",
       "      <td>F3D147</td>\n",
       "      <td>Late</td>\n",
       "      <td>147</td>\n",
       "      <td>0.735346</td>\n",
       "      <td>6.971328</td>\n",
       "      <td>97</td>\n",
       "      <td>4.853217</td>\n",
       "    </tr>\n",
       "    <tr>\n",
       "      <th>9</th>\n",
       "      <td>F3D148</td>\n",
       "      <td>Late</td>\n",
       "      <td>148</td>\n",
       "      <td>0.752291</td>\n",
       "      <td>7.112360</td>\n",
       "      <td>94</td>\n",
       "      <td>4.930959</td>\n",
       "    </tr>\n",
       "    <tr>\n",
       "      <th>10</th>\n",
       "      <td>F3D149</td>\n",
       "      <td>Late</td>\n",
       "      <td>149</td>\n",
       "      <td>0.783186</td>\n",
       "      <td>6.727941</td>\n",
       "      <td>108</td>\n",
       "      <td>5.290334</td>\n",
       "    </tr>\n",
       "    <tr>\n",
       "      <th>11</th>\n",
       "      <td>F3D150</td>\n",
       "      <td>Late</td>\n",
       "      <td>150</td>\n",
       "      <td>0.830016</td>\n",
       "      <td>5.949306</td>\n",
       "      <td>83</td>\n",
       "      <td>5.291386</td>\n",
       "    </tr>\n",
       "    <tr>\n",
       "      <th>12</th>\n",
       "      <td>F3D2</td>\n",
       "      <td>Early</td>\n",
       "      <td>2</td>\n",
       "      <td>0.743545</td>\n",
       "      <td>6.635619</td>\n",
       "      <td>116</td>\n",
       "      <td>5.099221</td>\n",
       "    </tr>\n",
       "    <tr>\n",
       "      <th>13</th>\n",
       "      <td>F3D3</td>\n",
       "      <td>Early</td>\n",
       "      <td>3</td>\n",
       "      <td>0.731842</td>\n",
       "      <td>6.364439</td>\n",
       "      <td>63</td>\n",
       "      <td>4.374422</td>\n",
       "    </tr>\n",
       "    <tr>\n",
       "      <th>14</th>\n",
       "      <td>F3D5</td>\n",
       "      <td>Early</td>\n",
       "      <td>5</td>\n",
       "      <td>0.850288</td>\n",
       "      <td>6.197254</td>\n",
       "      <td>84</td>\n",
       "      <td>5.435310</td>\n",
       "    </tr>\n",
       "    <tr>\n",
       "      <th>15</th>\n",
       "      <td>F3D6</td>\n",
       "      <td>Early</td>\n",
       "      <td>6</td>\n",
       "      <td>0.770686</td>\n",
       "      <td>6.702055</td>\n",
       "      <td>94</td>\n",
       "      <td>5.051527</td>\n",
       "    </tr>\n",
       "    <tr>\n",
       "      <th>16</th>\n",
       "      <td>F3D7</td>\n",
       "      <td>Early</td>\n",
       "      <td>7</td>\n",
       "      <td>0.734876</td>\n",
       "      <td>5.496284</td>\n",
       "      <td>60</td>\n",
       "      <td>4.340830</td>\n",
       "    </tr>\n",
       "    <tr>\n",
       "      <th>17</th>\n",
       "      <td>F3D8</td>\n",
       "      <td>Early</td>\n",
       "      <td>8</td>\n",
       "      <td>0.807999</td>\n",
       "      <td>7.475361</td>\n",
       "      <td>97</td>\n",
       "      <td>5.332725</td>\n",
       "    </tr>\n",
       "    <tr>\n",
       "      <th>18</th>\n",
       "      <td>F3D9</td>\n",
       "      <td>Early</td>\n",
       "      <td>9</td>\n",
       "      <td>0.806105</td>\n",
       "      <td>7.781776</td>\n",
       "      <td>109</td>\n",
       "      <td>5.455864</td>\n",
       "    </tr>\n",
       "  </tbody>\n",
       "</table>\n",
       "</div>"
      ],
      "text/plain": [
       "   Unnamed: 0   time  dpw  pielou_evenness  faith_pd  observed_features  \\\n",
       "0        F3D0  Early    0         0.839872  6.848429                 98   \n",
       "1        F3D1  Early    1         0.869344  6.902300                 99   \n",
       "2      F3D141   Late  141         0.790978  6.223620                 77   \n",
       "3      F3D142   Late  142         0.805085  5.488893                 50   \n",
       "4      F3D143   Late  143         0.817669  5.134559                 59   \n",
       "5      F3D144   Late  144         0.770699  5.456914                 55   \n",
       "6      F3D145   Late  145         0.737855  6.381842                 68   \n",
       "7      F3D146   Late  146         0.818636  6.089748                 85   \n",
       "8      F3D147   Late  147         0.735346  6.971328                 97   \n",
       "9      F3D148   Late  148         0.752291  7.112360                 94   \n",
       "10     F3D149   Late  149         0.783186  6.727941                108   \n",
       "11     F3D150   Late  150         0.830016  5.949306                 83   \n",
       "12       F3D2  Early    2         0.743545  6.635619                116   \n",
       "13       F3D3  Early    3         0.731842  6.364439                 63   \n",
       "14       F3D5  Early    5         0.850288  6.197254                 84   \n",
       "15       F3D6  Early    6         0.770686  6.702055                 94   \n",
       "16       F3D7  Early    7         0.734876  5.496284                 60   \n",
       "17       F3D8  Early    8         0.807999  7.475361                 97   \n",
       "18       F3D9  Early    9         0.806105  7.781776                109   \n",
       "\n",
       "    shannon_entropy  \n",
       "0          5.555509  \n",
       "1          5.763192  \n",
       "2          4.956888  \n",
       "3          4.543787  \n",
       "4          4.810057  \n",
       "5          4.455691  \n",
       "6          4.491663  \n",
       "7          5.246960  \n",
       "8          4.853217  \n",
       "9          4.930959  \n",
       "10         5.290334  \n",
       "11         5.291386  \n",
       "12         5.099221  \n",
       "13         4.374422  \n",
       "14         5.435310  \n",
       "15         5.051527  \n",
       "16         4.340830  \n",
       "17         5.332725  \n",
       "18         5.455864  "
      ]
     },
     "execution_count": 36,
     "metadata": {},
     "output_type": "execute_result"
    }
   ],
   "source": [
    "pd.read_csv(\"../\"+dir5+\"/summary_alpha_diversity.csv\")"
   ]
  },
  {
   "cell_type": "markdown",
   "metadata": {},
   "source": [
    "### 可视化"
   ]
  },
  {
   "cell_type": "code",
   "execution_count": 37,
   "metadata": {},
   "outputs": [
    {
     "name": "stdout",
     "output_type": "stream",
     "text": [
      "\u001b[32mSaved Visualization to: core-metrics-results/alpha-rarefaction.qzv\u001b[0m\n",
      "\u001b[0m"
     ]
    },
    {
     "data": {
      "text/html": [
       "<div><img onload=\"(function(div, url){\n",
       "if (typeof require !== 'undefined') {\n",
       "    var baseURL = require.toUrl('').split('/').slice(0, -2).join('/');\n",
       "} else {\n",
       "    var baseURL = JSON.parse(\n",
       "        document.getElementById('jupyter-config-data').innerHTML\n",
       "    ).baseUrl.slice(0, -1);\n",
       "}\n",
       "url = baseURL + url;\n",
       "fetch(url).then(function(res) {\n",
       "    if (res.status === 404) {\n",
       "        div.innerHTML = 'Install QIIME 2 Jupyter extension with:<br />' +\n",
       "                        '<code>jupyter serverextension enable --py qiime2' +\n",
       "                        ' --sys-prefix</code><br />then restart your server.' +\n",
       "                        '<br /><br />(Interactive output not available on ' +\n",
       "                        'static notebook viewer services like nbviewer.)';\n",
       "    } else if (res.status === 409) {\n",
       "        div.innerHTML = 'Visualization no longer in scope. Re-run this cell' +\n",
       "                        ' to see the visualization.';\n",
       "    } else if (res.ok) {\n",
       "        url = res.url;\n",
       "        div.innerHTML = '<iframe src=\\'' + url + '\\' style=\\'' +\n",
       "                        'width: 100%; height: 700px; border: 0;\\'>' +\n",
       "                        '</iframe><hr />Open in a: <a href=\\'' + url + '\\'' +\n",
       "                        ' target=\\'_blank\\'>new window</a>'\n",
       "    } else {\n",
       "        div.innerHTML = 'Something has gone wrong. Check notebook server for' +\n",
       "                        ' errors.';\n",
       "    }\n",
       "});\n",
       "})(this.parentElement, '/qiime2/redirect?location=/var/folders/v_/4kh0sbdj7234gyfd0scwc_m40000gn/T/qiime2-archive-9vuix5qz')\" src=\"data:image/gif;base64,R0lGODlhAQABAIAAAP///wAAACH5BAEAAAAALAAAAAABAAEAAAICRAEAOw==\" /></div>"
      ],
      "text/plain": [
       "<visualization: Visualization uuid: 97e7f3df-df6f-43ce-b355-22a39f44b8df>"
      ]
     },
     "execution_count": 37,
     "metadata": {},
     "output_type": "execute_result"
    }
   ],
   "source": [
    "!qiime diversity alpha-rarefaction \\\n",
    "  --i-table table.qza \\\n",
    "  --i-phylogeny rooted-tree.qza \\\n",
    "  --p-max-depth 4000 \\\n",
    "  --m-metadata-file {metadata_file} \\\n",
    "  --o-visualization core-metrics-results/alpha-rarefaction.qzv\n",
    "\n",
    "q2.Visualization.load('core-metrics-results/alpha-rarefaction.qzv')"
   ]
  },
  {
   "cell_type": "markdown",
   "metadata": {
    "tags": []
   },
   "source": [
    "### 多样性差异"
   ]
  },
  {
   "cell_type": "code",
   "execution_count": 38,
   "metadata": {},
   "outputs": [
    {
     "name": "stdout",
     "output_type": "stream",
     "text": [
      "\u001b[32mSaved Visualization to: core-metrics-results/evenness-group-significance.qzv\u001b[0m\n",
      "\u001b[0m"
     ]
    },
    {
     "data": {
      "text/html": [
       "<div><img onload=\"(function(div, url){\n",
       "if (typeof require !== 'undefined') {\n",
       "    var baseURL = require.toUrl('').split('/').slice(0, -2).join('/');\n",
       "} else {\n",
       "    var baseURL = JSON.parse(\n",
       "        document.getElementById('jupyter-config-data').innerHTML\n",
       "    ).baseUrl.slice(0, -1);\n",
       "}\n",
       "url = baseURL + url;\n",
       "fetch(url).then(function(res) {\n",
       "    if (res.status === 404) {\n",
       "        div.innerHTML = 'Install QIIME 2 Jupyter extension with:<br />' +\n",
       "                        '<code>jupyter serverextension enable --py qiime2' +\n",
       "                        ' --sys-prefix</code><br />then restart your server.' +\n",
       "                        '<br /><br />(Interactive output not available on ' +\n",
       "                        'static notebook viewer services like nbviewer.)';\n",
       "    } else if (res.status === 409) {\n",
       "        div.innerHTML = 'Visualization no longer in scope. Re-run this cell' +\n",
       "                        ' to see the visualization.';\n",
       "    } else if (res.ok) {\n",
       "        url = res.url;\n",
       "        div.innerHTML = '<iframe src=\\'' + url + '\\' style=\\'' +\n",
       "                        'width: 100%; height: 700px; border: 0;\\'>' +\n",
       "                        '</iframe><hr />Open in a: <a href=\\'' + url + '\\'' +\n",
       "                        ' target=\\'_blank\\'>new window</a>'\n",
       "    } else {\n",
       "        div.innerHTML = 'Something has gone wrong. Check notebook server for' +\n",
       "                        ' errors.';\n",
       "    }\n",
       "});\n",
       "})(this.parentElement, '/qiime2/redirect?location=/var/folders/v_/4kh0sbdj7234gyfd0scwc_m40000gn/T/qiime2-archive-o1b_fyg0')\" src=\"data:image/gif;base64,R0lGODlhAQABAIAAAP///wAAACH5BAEAAAAALAAAAAABAAEAAAICRAEAOw==\" /></div>"
      ],
      "text/plain": [
       "<visualization: Visualization uuid: d79c38e3-b3fe-4b01-9882-c2146ea9dedd>"
      ]
     },
     "execution_count": 38,
     "metadata": {},
     "output_type": "execute_result"
    }
   ],
   "source": [
    "!qiime diversity alpha-group-significance \\\n",
    "  --i-alpha-diversity core-metrics-results/evenness_vector.qza \\\n",
    "  --m-metadata-file {metadata_file} \\\n",
    "  --o-visualization core-metrics-results/evenness-group-significance.qzv\n",
    "\n",
    "q2.Visualization.load('core-metrics-results/evenness-group-significance.qzv')"
   ]
  },
  {
   "cell_type": "code",
   "execution_count": 39,
   "metadata": {},
   "outputs": [
    {
     "name": "stdout",
     "output_type": "stream",
     "text": [
      "\u001b[32mSaved Visualization to: core-metrics-results/faith-pd-group-significance.qzv\u001b[0m\n",
      "\u001b[0m"
     ]
    },
    {
     "data": {
      "text/html": [
       "<div><img onload=\"(function(div, url){\n",
       "if (typeof require !== 'undefined') {\n",
       "    var baseURL = require.toUrl('').split('/').slice(0, -2).join('/');\n",
       "} else {\n",
       "    var baseURL = JSON.parse(\n",
       "        document.getElementById('jupyter-config-data').innerHTML\n",
       "    ).baseUrl.slice(0, -1);\n",
       "}\n",
       "url = baseURL + url;\n",
       "fetch(url).then(function(res) {\n",
       "    if (res.status === 404) {\n",
       "        div.innerHTML = 'Install QIIME 2 Jupyter extension with:<br />' +\n",
       "                        '<code>jupyter serverextension enable --py qiime2' +\n",
       "                        ' --sys-prefix</code><br />then restart your server.' +\n",
       "                        '<br /><br />(Interactive output not available on ' +\n",
       "                        'static notebook viewer services like nbviewer.)';\n",
       "    } else if (res.status === 409) {\n",
       "        div.innerHTML = 'Visualization no longer in scope. Re-run this cell' +\n",
       "                        ' to see the visualization.';\n",
       "    } else if (res.ok) {\n",
       "        url = res.url;\n",
       "        div.innerHTML = '<iframe src=\\'' + url + '\\' style=\\'' +\n",
       "                        'width: 100%; height: 700px; border: 0;\\'>' +\n",
       "                        '</iframe><hr />Open in a: <a href=\\'' + url + '\\'' +\n",
       "                        ' target=\\'_blank\\'>new window</a>'\n",
       "    } else {\n",
       "        div.innerHTML = 'Something has gone wrong. Check notebook server for' +\n",
       "                        ' errors.';\n",
       "    }\n",
       "});\n",
       "})(this.parentElement, '/qiime2/redirect?location=/var/folders/v_/4kh0sbdj7234gyfd0scwc_m40000gn/T/qiime2-archive-z44i3hng')\" src=\"data:image/gif;base64,R0lGODlhAQABAIAAAP///wAAACH5BAEAAAAALAAAAAABAAEAAAICRAEAOw==\" /></div>"
      ],
      "text/plain": [
       "<visualization: Visualization uuid: c3398e11-375a-46ae-a1e4-f8a2be2fbad5>"
      ]
     },
     "execution_count": 39,
     "metadata": {},
     "output_type": "execute_result"
    }
   ],
   "source": [
    "#Using group significance can show you how different factors in your metadata affect your diversity\n",
    "\n",
    "!qiime diversity alpha-group-significance \\\n",
    "  --i-alpha-diversity core-metrics-results/faith_pd_vector.qza \\\n",
    "  --m-metadata-file  {metadata_file} \\\n",
    "  --o-visualization core-metrics-results/faith-pd-group-significance.qzv\n",
    "\n",
    "q2.Visualization.load('core-metrics-results/faith-pd-group-significance.qzv')"
   ]
  },
  {
   "cell_type": "markdown",
   "metadata": {
    "tags": []
   },
   "source": [
    "## Beat多样性\n",
    "Beta多样性是不同生态系统之间多样性的比较，是物种组成沿环境梯度或者在群落间的变化率， 用来表示生物种类对环境异质性的反应。一般来说，不同环境梯度下群落Beta多样性计算包括物种改变（多少） 和物种产生（有无）两部分。因此，我们将根据这两个重要指标，运用Weighted Unifrac、Unweighted Unifrac、Jaccard 以及 Bray四个个指数进行后续Beta多样性分析。"
   ]
  },
  {
   "cell_type": "code",
   "execution_count": 40,
   "metadata": {},
   "outputs": [
    {
     "name": "stdout",
     "output_type": "stream",
     "text": [
      "\u001b[32mExported core-metrics-results/bray_curtis_emperor.qzv as Visualization to directory ../06.beta_diversity/bray_curtis\u001b[0m\n",
      "\u001b[32mExported core-metrics-results/bray_curtis_pcoa_results.qza as OrdinationDirectoryFormat to directory ../06.beta_diversity/bray_curtis\u001b[0m\n",
      "\u001b[0m\u001b[32mExported core-metrics-results/bray_curtis_distance_matrix.qza as DistanceMatrixDirectoryFormat to directory ../06.beta_diversity/bray_curtis\u001b[0m\n",
      "\u001b[0m\u001b[32mExported core-metrics-results/jaccard_emperor.qzv as Visualization to directory ../06.beta_diversity/jaccard\u001b[0m\n",
      "\u001b[32mExported core-metrics-results/jaccard_pcoa_results.qza as OrdinationDirectoryFormat to directory ../06.beta_diversity/jaccard\u001b[0m\n",
      "\u001b[0m\u001b[32mExported core-metrics-results/jaccard_distance_matrix.qza as DistanceMatrixDirectoryFormat to directory ../06.beta_diversity/jaccard\u001b[0m\n",
      "\u001b[0m\u001b[32mExported core-metrics-results/weighted_unifrac_emperor.qzv as Visualization to directory ../06.beta_diversity/weighted_unifrac\u001b[0m\n",
      "\u001b[32mExported core-metrics-results/weighted_unifrac_pcoa_results.qza as OrdinationDirectoryFormat to directory ../06.beta_diversity/weighted_unifrac\u001b[0m\n",
      "\u001b[0m\u001b[32mExported core-metrics-results/weighted_unifrac_distance_matrix.qza as DistanceMatrixDirectoryFormat to directory ../06.beta_diversity/weighted_unifrac\u001b[0m\n",
      "\u001b[0m\u001b[32mExported core-metrics-results/unweighted_unifrac_emperor.qzv as Visualization to directory ../06.beta_diversity/unweighted_unifrac\u001b[0m\n",
      "\u001b[32mExported core-metrics-results/unweighted_unifrac_pcoa_results.qza as OrdinationDirectoryFormat to directory ../06.beta_diversity/unweighted_unifrac\u001b[0m\n",
      "\u001b[0m\u001b[32mExported core-metrics-results/unweighted_unifrac_distance_matrix.qza as DistanceMatrixDirectoryFormat to directory ../06.beta_diversity/unweighted_unifrac\u001b[0m\n",
      "\u001b[0m"
     ]
    }
   ],
   "source": [
    "# bray_curtis\n",
    "!qiime tools export --input-path=core-metrics-results/bray_curtis_emperor.qzv --output-path=../{dir6}/bray_curtis\n",
    "!qiime tools export --input-path=core-metrics-results/bray_curtis_pcoa_results.qza --output-path=../{dir6}/bray_curtis\n",
    "!qiime tools export --input-path=core-metrics-results/bray_curtis_distance_matrix.qza --output-path=../{dir6}/bray_curtis\n",
    "\n",
    "# jaccard\n",
    "!qiime tools export --input-path=core-metrics-results/jaccard_emperor.qzv --output-path=../{dir6}/jaccard\n",
    "!qiime tools export --input-path=core-metrics-results/jaccard_pcoa_results.qza --output-path=../{dir6}/jaccard\n",
    "!qiime tools export --input-path=core-metrics-results/jaccard_distance_matrix.qza --output-path=../{dir6}/jaccard\n",
    "\n",
    "# weighted_unifrac\n",
    "!qiime tools export --input-path=core-metrics-results/weighted_unifrac_emperor.qzv --output-path=../{dir6}/weighted_unifrac\n",
    "!qiime tools export --input-path=core-metrics-results/weighted_unifrac_pcoa_results.qza --output-path=../{dir6}/weighted_unifrac\n",
    "!qiime tools export --input-path=core-metrics-results/weighted_unifrac_distance_matrix.qza --output-path=../{dir6}/weighted_unifrac\n",
    "\n",
    "# weighted_unifrac\n",
    "!qiime tools export --input-path=core-metrics-results/unweighted_unifrac_emperor.qzv --output-path=../{dir6}/unweighted_unifrac\n",
    "!qiime tools export --input-path=core-metrics-results/unweighted_unifrac_pcoa_results.qza --output-path=../{dir6}/unweighted_unifrac\n",
    "!qiime tools export --input-path=core-metrics-results/unweighted_unifrac_distance_matrix.qza --output-path=../{dir6}/unweighted_unifrac"
   ]
  },
  {
   "cell_type": "markdown",
   "metadata": {},
   "source": [
    "### 可视化展示\n",
    "散点图展示`beta`多样性"
   ]
  },
  {
   "cell_type": "code",
   "execution_count": 41,
   "metadata": {
    "tags": []
   },
   "outputs": [
    {
     "data": {
      "text/html": [
       "<div><img onload=\"(function(div, url){\n",
       "if (typeof require !== 'undefined') {\n",
       "    var baseURL = require.toUrl('').split('/').slice(0, -2).join('/');\n",
       "} else {\n",
       "    var baseURL = JSON.parse(\n",
       "        document.getElementById('jupyter-config-data').innerHTML\n",
       "    ).baseUrl.slice(0, -1);\n",
       "}\n",
       "url = baseURL + url;\n",
       "fetch(url).then(function(res) {\n",
       "    if (res.status === 404) {\n",
       "        div.innerHTML = 'Install QIIME 2 Jupyter extension with:<br />' +\n",
       "                        '<code>jupyter serverextension enable --py qiime2' +\n",
       "                        ' --sys-prefix</code><br />then restart your server.' +\n",
       "                        '<br /><br />(Interactive output not available on ' +\n",
       "                        'static notebook viewer services like nbviewer.)';\n",
       "    } else if (res.status === 409) {\n",
       "        div.innerHTML = 'Visualization no longer in scope. Re-run this cell' +\n",
       "                        ' to see the visualization.';\n",
       "    } else if (res.ok) {\n",
       "        url = res.url;\n",
       "        div.innerHTML = '<iframe src=\\'' + url + '\\' style=\\'' +\n",
       "                        'width: 100%; height: 700px; border: 0;\\'>' +\n",
       "                        '</iframe><hr />Open in a: <a href=\\'' + url + '\\'' +\n",
       "                        ' target=\\'_blank\\'>new window</a>'\n",
       "    } else {\n",
       "        div.innerHTML = 'Something has gone wrong. Check notebook server for' +\n",
       "                        ' errors.';\n",
       "    }\n",
       "});\n",
       "})(this.parentElement, '/qiime2/redirect?location=/var/folders/v_/4kh0sbdj7234gyfd0scwc_m40000gn/T/qiime2-archive-2nucnum9')\" src=\"data:image/gif;base64,R0lGODlhAQABAIAAAP///wAAACH5BAEAAAAALAAAAAABAAEAAAICRAEAOw==\" /></div>"
      ],
      "text/plain": [
       "<visualization: Visualization uuid: 63bb76f0-0389-44a5-808a-76c14824e07d>"
      ]
     },
     "execution_count": 41,
     "metadata": {},
     "output_type": "execute_result"
    }
   ],
   "source": [
    "#View unweighted unifrac beta diversity on a PCoA emperor plot\n",
    "q2.Visualization.load('core-metrics-results/bray_curtis_emperor.qzv')"
   ]
  },
  {
   "cell_type": "markdown",
   "metadata": {},
   "source": [
    "如果想要更改绘图的坐标，需要重新绘制"
   ]
  },
  {
   "cell_type": "code",
   "execution_count": 42,
   "metadata": {},
   "outputs": [
    {
     "name": "stdout",
     "output_type": "stream",
     "text": [
      "\u001b[32mSaved Visualization to: core-metrics-results/unweighted-unifrac-emperor-days-since-experiment-start.qzv\u001b[0m\n",
      "\u001b[0m"
     ]
    },
    {
     "data": {
      "text/html": [
       "<div><img onload=\"(function(div, url){\n",
       "if (typeof require !== 'undefined') {\n",
       "    var baseURL = require.toUrl('').split('/').slice(0, -2).join('/');\n",
       "} else {\n",
       "    var baseURL = JSON.parse(\n",
       "        document.getElementById('jupyter-config-data').innerHTML\n",
       "    ).baseUrl.slice(0, -1);\n",
       "}\n",
       "url = baseURL + url;\n",
       "fetch(url).then(function(res) {\n",
       "    if (res.status === 404) {\n",
       "        div.innerHTML = 'Install QIIME 2 Jupyter extension with:<br />' +\n",
       "                        '<code>jupyter serverextension enable --py qiime2' +\n",
       "                        ' --sys-prefix</code><br />then restart your server.' +\n",
       "                        '<br /><br />(Interactive output not available on ' +\n",
       "                        'static notebook viewer services like nbviewer.)';\n",
       "    } else if (res.status === 409) {\n",
       "        div.innerHTML = 'Visualization no longer in scope. Re-run this cell' +\n",
       "                        ' to see the visualization.';\n",
       "    } else if (res.ok) {\n",
       "        url = res.url;\n",
       "        div.innerHTML = '<iframe src=\\'' + url + '\\' style=\\'' +\n",
       "                        'width: 100%; height: 700px; border: 0;\\'>' +\n",
       "                        '</iframe><hr />Open in a: <a href=\\'' + url + '\\'' +\n",
       "                        ' target=\\'_blank\\'>new window</a>'\n",
       "    } else {\n",
       "        div.innerHTML = 'Something has gone wrong. Check notebook server for' +\n",
       "                        ' errors.';\n",
       "    }\n",
       "});\n",
       "})(this.parentElement, '/qiime2/redirect?location=/var/folders/v_/4kh0sbdj7234gyfd0scwc_m40000gn/T/qiime2-archive-71nley8p')\" src=\"data:image/gif;base64,R0lGODlhAQABAIAAAP///wAAACH5BAEAAAAALAAAAAABAAEAAAICRAEAOw==\" /></div>"
      ],
      "text/plain": [
       "<visualization: Visualization uuid: f58351e0-7304-4b96-be3c-f28f96e69b40>"
      ]
     },
     "execution_count": 42,
     "metadata": {},
     "output_type": "execute_result"
    }
   ],
   "source": [
    "# putting cusom axes on your PCoA emperor plot (shown above)\n",
    "!qiime emperor plot \\\n",
    "  --i-pcoa core-metrics-results/unweighted_unifrac_pcoa_results.qza \\\n",
    "  --m-metadata-file {metadata_file} \\\n",
    "  --o-visualization core-metrics-results/unweighted-unifrac-emperor-days-since-experiment-start.qzv\n",
    "q2.Visualization.load('core-metrics-results/unweighted-unifrac-emperor-days-since-experiment-start.qzv')"
   ]
  },
  {
   "cell_type": "markdown",
   "metadata": {
    "tags": []
   },
   "source": [
    "### 多样性差异"
   ]
  },
  {
   "cell_type": "code",
   "execution_count": 43,
   "metadata": {
    "tags": []
   },
   "outputs": [
    {
     "name": "stdout",
     "output_type": "stream",
     "text": [
      "\u001b[32mSaved Visualization to: core-metrics-results/unweighted-unifrac-body-site-significance.qzv\u001b[0m\n",
      "\u001b[0m"
     ]
    },
    {
     "data": {
      "text/html": [
       "<div><img onload=\"(function(div, url){\n",
       "if (typeof require !== 'undefined') {\n",
       "    var baseURL = require.toUrl('').split('/').slice(0, -2).join('/');\n",
       "} else {\n",
       "    var baseURL = JSON.parse(\n",
       "        document.getElementById('jupyter-config-data').innerHTML\n",
       "    ).baseUrl.slice(0, -1);\n",
       "}\n",
       "url = baseURL + url;\n",
       "fetch(url).then(function(res) {\n",
       "    if (res.status === 404) {\n",
       "        div.innerHTML = 'Install QIIME 2 Jupyter extension with:<br />' +\n",
       "                        '<code>jupyter serverextension enable --py qiime2' +\n",
       "                        ' --sys-prefix</code><br />then restart your server.' +\n",
       "                        '<br /><br />(Interactive output not available on ' +\n",
       "                        'static notebook viewer services like nbviewer.)';\n",
       "    } else if (res.status === 409) {\n",
       "        div.innerHTML = 'Visualization no longer in scope. Re-run this cell' +\n",
       "                        ' to see the visualization.';\n",
       "    } else if (res.ok) {\n",
       "        url = res.url;\n",
       "        div.innerHTML = '<iframe src=\\'' + url + '\\' style=\\'' +\n",
       "                        'width: 100%; height: 700px; border: 0;\\'>' +\n",
       "                        '</iframe><hr />Open in a: <a href=\\'' + url + '\\'' +\n",
       "                        ' target=\\'_blank\\'>new window</a>'\n",
       "    } else {\n",
       "        div.innerHTML = 'Something has gone wrong. Check notebook server for' +\n",
       "                        ' errors.';\n",
       "    }\n",
       "});\n",
       "})(this.parentElement, '/qiime2/redirect?location=/var/folders/v_/4kh0sbdj7234gyfd0scwc_m40000gn/T/qiime2-archive-q32q093q')\" src=\"data:image/gif;base64,R0lGODlhAQABAIAAAP///wAAACH5BAEAAAAALAAAAAABAAEAAAICRAEAOw==\" /></div>"
      ],
      "text/plain": [
       "<visualization: Visualization uuid: e6122689-8a44-469b-8da3-56d7d9539016>"
      ]
     },
     "execution_count": 43,
     "metadata": {},
     "output_type": "execute_result"
    }
   ],
   "source": [
    "!qiime diversity beta-group-significance \\\n",
    "  --i-distance-matrix core-metrics-results/unweighted_unifrac_distance_matrix.qza \\\n",
    "  --m-metadata-file  {metadata_file} \\\n",
    "  --m-metadata-column time \\\n",
    "  --o-visualization core-metrics-results/unweighted-unifrac-body-site-significance.qzv \\\n",
    "  --p-pairwise\n",
    "\n",
    "q2.Visualization.load('core-metrics-results/unweighted-unifrac-body-site-significance.qzv')"
   ]
  },
  {
   "cell_type": "markdown",
   "metadata": {
    "tags": []
   },
   "source": [
    "## 差异分析"
   ]
  },
  {
   "cell_type": "code",
   "execution_count": 44,
   "metadata": {},
   "outputs": [
    {
     "name": "stdout",
     "output_type": "stream",
     "text": [
      "\u001b[32mSaved FeatureTable[Composition] to: comp-table.qza\u001b[0m\n",
      "\u001b[0m"
     ]
    }
   ],
   "source": [
    "# 生成标准化后的微生物丰度矩阵\n",
    "!qiime composition add-pseudocount \\\n",
    "  --i-table table.qza \\\n",
    "  --o-composition-table comp-table.qza"
   ]
  },
  {
   "cell_type": "code",
   "execution_count": 45,
   "metadata": {},
   "outputs": [
    {
     "name": "stdout",
     "output_type": "stream",
     "text": [
      "\u001b[32mExported comp-table.qza as BIOMV210DirFmt to directory ../04.Taxa_diff\u001b[0m\n",
      "\u001b[0m"
     ]
    }
   ],
   "source": [
    "!qiime tools export --input-path=comp-table.qza --output-path=../{dir4}\n",
    "!biom convert -i ../{dir4}/feature-table.biom -o ../{dir4}/comp_feature-table.tsv --to-tsv"
   ]
  },
  {
   "cell_type": "code",
   "execution_count": 46,
   "metadata": {},
   "outputs": [
    {
     "name": "stdout",
     "output_type": "stream",
     "text": [
      "\u001b[32mSaved Visualization to: ancom-subject.qzv\u001b[0m\n",
      "\u001b[0m"
     ]
    },
    {
     "data": {
      "text/html": [
       "<div><img onload=\"(function(div, url){\n",
       "if (typeof require !== 'undefined') {\n",
       "    var baseURL = require.toUrl('').split('/').slice(0, -2).join('/');\n",
       "} else {\n",
       "    var baseURL = JSON.parse(\n",
       "        document.getElementById('jupyter-config-data').innerHTML\n",
       "    ).baseUrl.slice(0, -1);\n",
       "}\n",
       "url = baseURL + url;\n",
       "fetch(url).then(function(res) {\n",
       "    if (res.status === 404) {\n",
       "        div.innerHTML = 'Install QIIME 2 Jupyter extension with:<br />' +\n",
       "                        '<code>jupyter serverextension enable --py qiime2' +\n",
       "                        ' --sys-prefix</code><br />then restart your server.' +\n",
       "                        '<br /><br />(Interactive output not available on ' +\n",
       "                        'static notebook viewer services like nbviewer.)';\n",
       "    } else if (res.status === 409) {\n",
       "        div.innerHTML = 'Visualization no longer in scope. Re-run this cell' +\n",
       "                        ' to see the visualization.';\n",
       "    } else if (res.ok) {\n",
       "        url = res.url;\n",
       "        div.innerHTML = '<iframe src=\\'' + url + '\\' style=\\'' +\n",
       "                        'width: 100%; height: 700px; border: 0;\\'>' +\n",
       "                        '</iframe><hr />Open in a: <a href=\\'' + url + '\\'' +\n",
       "                        ' target=\\'_blank\\'>new window</a>'\n",
       "    } else {\n",
       "        div.innerHTML = 'Something has gone wrong. Check notebook server for' +\n",
       "                        ' errors.';\n",
       "    }\n",
       "});\n",
       "})(this.parentElement, '/qiime2/redirect?location=/var/folders/v_/4kh0sbdj7234gyfd0scwc_m40000gn/T/qiime2-archive-eio2qz8n')\" src=\"data:image/gif;base64,R0lGODlhAQABAIAAAP///wAAACH5BAEAAAAALAAAAAABAAEAAAICRAEAOw==\" /></div>"
      ],
      "text/plain": [
       "<visualization: Visualization uuid: a66af46b-fd76-4900-a07d-a40b6719583f>"
      ]
     },
     "execution_count": 46,
     "metadata": {},
     "output_type": "execute_result"
    }
   ],
   "source": [
    "# ANCOM operates on a FeatureTable[Composition] QIIME 2 artifact, which is based on frequencies of features on a per-sample basis, but cannot tolerate frequencies of zero. \n",
    "# To build the composition artifact, a FeatureTable[Frequency] artifact must be provided to add-pseudocount (an imputation method), which will produce the FeatureTable[Composition] artifact.\n",
    "\n",
    "!qiime composition ancom \\\n",
    "  --i-table comp-table.qza \\\n",
    "  --m-metadata-file {metadata_file} \\\n",
    "  --m-metadata-column time \\\n",
    "  --o-visualization ancom-subject.qzv\n",
    "q2.Visualization.load('ancom-subject.qzv')"
   ]
  },
  {
   "cell_type": "code",
   "execution_count": 47,
   "metadata": {},
   "outputs": [
    {
     "name": "stdout",
     "output_type": "stream",
     "text": [
      "\u001b[32mSaved FeatureTable[Frequency] to: table-l5.qza\u001b[0m\n",
      "\u001b[0m"
     ]
    }
   ],
   "source": [
    "#To look at differential abundance at a different taxonomic level\n",
    "!qiime taxa collapse \\\n",
    "  --i-table table.qza \\\n",
    "  --i-taxonomy taxonomy.qza \\\n",
    "  --p-level 5 \\\n",
    "  --o-collapsed-table table-l5.qza"
   ]
  },
  {
   "cell_type": "code",
   "execution_count": 48,
   "metadata": {},
   "outputs": [
    {
     "name": "stdout",
     "output_type": "stream",
     "text": [
      "\u001b[32mSaved FeatureTable[Composition] to: comp-table-l5.qza\u001b[0m\n",
      "\u001b[0m"
     ]
    }
   ],
   "source": [
    "# Redo the add-pseudocount on the new table\n",
    "\n",
    "!qiime composition add-pseudocount \\\n",
    "  --i-table table-l5.qza \\\n",
    "  --o-composition-table comp-table-l5.qza"
   ]
  },
  {
   "cell_type": "code",
   "execution_count": 50,
   "metadata": {},
   "outputs": [
    {
     "name": "stdout",
     "output_type": "stream",
     "text": [
      "\u001b[32mSaved Visualization to: l5-ancom-subject.qzv\u001b[0m\n",
      "\u001b[0m"
     ]
    },
    {
     "data": {
      "text/html": [
       "<div><img onload=\"(function(div, url){\n",
       "if (typeof require !== 'undefined') {\n",
       "    var baseURL = require.toUrl('').split('/').slice(0, -2).join('/');\n",
       "} else {\n",
       "    var baseURL = JSON.parse(\n",
       "        document.getElementById('jupyter-config-data').innerHTML\n",
       "    ).baseUrl.slice(0, -1);\n",
       "}\n",
       "url = baseURL + url;\n",
       "fetch(url).then(function(res) {\n",
       "    if (res.status === 404) {\n",
       "        div.innerHTML = 'Install QIIME 2 Jupyter extension with:<br />' +\n",
       "                        '<code>jupyter serverextension enable --py qiime2' +\n",
       "                        ' --sys-prefix</code><br />then restart your server.' +\n",
       "                        '<br /><br />(Interactive output not available on ' +\n",
       "                        'static notebook viewer services like nbviewer.)';\n",
       "    } else if (res.status === 409) {\n",
       "        div.innerHTML = 'Visualization no longer in scope. Re-run this cell' +\n",
       "                        ' to see the visualization.';\n",
       "    } else if (res.ok) {\n",
       "        url = res.url;\n",
       "        div.innerHTML = '<iframe src=\\'' + url + '\\' style=\\'' +\n",
       "                        'width: 100%; height: 700px; border: 0;\\'>' +\n",
       "                        '</iframe><hr />Open in a: <a href=\\'' + url + '\\'' +\n",
       "                        ' target=\\'_blank\\'>new window</a>'\n",
       "    } else {\n",
       "        div.innerHTML = 'Something has gone wrong. Check notebook server for' +\n",
       "                        ' errors.';\n",
       "    }\n",
       "});\n",
       "})(this.parentElement, '/qiime2/redirect?location=/var/folders/v_/4kh0sbdj7234gyfd0scwc_m40000gn/T/qiime2-archive-4hef8tnv')\" src=\"data:image/gif;base64,R0lGODlhAQABAIAAAP///wAAACH5BAEAAAAALAAAAAABAAEAAAICRAEAOw==\" /></div>"
      ],
      "text/plain": [
       "<visualization: Visualization uuid: 90e28777-cc13-489f-8c63-46d63309e50d>"
      ]
     },
     "execution_count": 50,
     "metadata": {},
     "output_type": "execute_result"
    }
   ],
   "source": [
    "#Run the analysis on the collapsed taxonomy\n",
    "\n",
    "!qiime composition ancom \\\n",
    "  --i-table comp-table-l5.qza \\\n",
    "  --m-metadata-file {metadata_file} \\\n",
    "  --m-metadata-column time \\\n",
    "  --o-visualization l5-ancom-subject.qzv\n",
    "\n",
    "\n",
    "q2.Visualization.load('l5-ancom-Subject.qzv')"
   ]
  },
  {
   "cell_type": "markdown",
   "metadata": {},
   "source": [
    "## PICRUST2 功能"
   ]
  },
  {
   "cell_type": "code",
   "execution_count": 211,
   "metadata": {},
   "outputs": [
    {
     "name": "stdout",
     "output_type": "stream",
     "text": [
      "\u001b[31m\u001b[1mError: QIIME 2 has no plugin/command named 'picrust2'.\u001b[0m\n"
     ]
    }
   ],
   "source": [
    "!qiime picrust2 full-pipeline \\\n",
    "   --i-table table.qza \\\n",
    "   --i-seq rep-seqs.qza \\\n",
    "   --output-dir q2-picrust2_output \\\n",
    "   --p-threads 4 \\\n",
    "   --p-max-nsti 2 "
   ]
  }
 ],
 "metadata": {
  "kernelspec": {
   "display_name": "Python 3 (ipykernel)",
   "language": "python",
   "name": "python3"
  },
  "language_info": {
   "codemirror_mode": {
    "name": "ipython",
    "version": 3
   },
   "file_extension": ".py",
   "mimetype": "text/x-python",
   "name": "python",
   "nbconvert_exporter": "python",
   "pygments_lexer": "ipython3",
   "version": "3.8.12"
  },
  "toc-autonumbering": false,
  "toc-showmarkdowntxt": false
 },
 "nbformat": 4,
 "nbformat_minor": 4
}
