{
 "cells": [
  {
   "cell_type": "markdown",
   "metadata": {},
   "source": [
    "# QIIME 2 enables comprehensive end-to-end analysis of diverse microbiome data and comparative studies with publicly available data\n",
    "\n",
    "this is a QIIME 2 Artifact API notebook which replicated the QIIME 2 CLI analyses\n",
    "\n",
    "**environment:** qiime2-2019.10"
   ]
  },
  {
   "cell_type": "markdown",
   "metadata": {},
   "source": [
    "## How to use this notebook:"
   ]
  },
  {
   "cell_type": "markdown",
   "metadata": {},
   "source": [
    "1. Activate the `qiime2-2019.10` conda environment.\n",
    "    ```\n",
    "    conda activate qiime2-2019.10\n",
    "    ```\n",
    "\n",
    "2. Make sure that `jupyter serverextensions` are enabled.  \n",
    "\n",
    "\n",
    "    Close this notebook and jupyter session, and run:  \n",
    "    `jupyter serverextension enable --py qiime2 --sys-prefix`  \n",
    "      \n",
    "3. Install additional dependencies:\n",
    "    ```\n",
    "    conda install songbird -c conda-forge\n",
    "    conda install -c conda-forge redbiom\n",
    "    conda install -c bioconda bowtie2\n",
    "    pip install https://github.com/knights-lab/SHOGUN/archive/master.zip\n",
    "    pip install https://github.com/qiime2/q2-shogun/archive/master.zip\n",
    "    conda install cytoolz\n",
    "    qiime dev refresh-cache\n",
    "    ```  \n",
    "\n",
    "4. Restart and run the notebook"
   ]
  },
  {
   "cell_type": "markdown",
   "metadata": {},
   "source": [
    "# import QIIME 2 plugins and other dependencies"
   ]
  },
  {
   "cell_type": "code",
   "execution_count": 3,
   "metadata": {},
   "outputs": [],
   "source": [
    "import qiime2\n",
    "import warnings\n",
    "import os\n",
    "import subprocess\n",
    "warnings.filterwarnings('ignore')\n",
    "\n",
    "# all plugins that are being used throughout this notebook are imported here\n",
    "from qiime2.plugins import composition, \\\n",
    "                           deblur, \\\n",
    "                           demux, \\\n",
    "                           diversity, \\\n",
    "                           feature_classifier, \\\n",
    "                           feature_table, \\\n",
    "                           fragment_insertion, \\\n",
    "                           longitudinal, \\\n",
    "                           metadata, \\\n",
    "                           quality_filter, \\\n",
    "                           taxa\n",
    "                           #shogun, \\\n",
    "                           #songbird, \\"
   ]
  },
  {
   "cell_type": "markdown",
   "metadata": {},
   "source": [
    "## Acquire data from ECAM study "
   ]
  },
  {
   "cell_type": "markdown",
   "metadata": {},
   "source": [
    "define the working directory"
   ]
  },
  {
   "cell_type": "code",
   "execution_count": null,
   "metadata": {},
   "outputs": [],
   "source": [
    "workdir='./'"
   ]
  },
  {
   "cell_type": "code",
   "execution_count": null,
   "metadata": {},
   "outputs": [],
   "source": [
    "!mkdir $workdir/qiime2-ecam-tutorial-api\n",
    "!cd $workdir/qiime2-ecam-tutorial-api"
   ]
  },
  {
   "cell_type": "code",
   "execution_count": null,
   "metadata": {},
   "outputs": [],
   "source": [
    "# NOTE: the file is 1.04GB in size\n",
    "!wget -O $workdir/81253.zip \"https://qiita.ucsd.edu/public_artifact_download/?artifact_id=81253\""
   ]
  },
  {
   "cell_type": "code",
   "execution_count": null,
   "metadata": {},
   "outputs": [],
   "source": [
    "!unzip $workdir/81253.zip"
   ]
  },
  {
   "cell_type": "code",
   "execution_count": null,
   "metadata": {},
   "outputs": [],
   "source": [
    "!mv $workdir/mapping_files/81253_mapping_file.txt $workdir/metadata.tsv"
   ]
  },
  {
   "cell_type": "markdown",
   "metadata": {},
   "source": [
    "## Import DNA sequence data into QIIME 2 & create a visual summary"
   ]
  },
  {
   "cell_type": "markdown",
   "metadata": {},
   "source": [
    "### 1. Create the manifest file with the required column headers"
   ]
  },
  {
   "cell_type": "code",
   "execution_count": null,
   "metadata": {},
   "outputs": [],
   "source": [
    "!echo \"sample-id\\tabsolute-filepath\" > manifest.tsv"
   ]
  },
  {
   "cell_type": "markdown",
   "metadata": {},
   "source": [
    "### 2. Use a loop function to insert the sample names into the sample-id column and add the full paths to the sequence files in the absolute-filepath column"
   ]
  },
  {
   "cell_type": "code",
   "execution_count": null,
   "metadata": {},
   "outputs": [],
   "source": [
    "!for f in `ls per_sample_FASTQ/81253/*.gz`; \\\n",
    "do n=`basename $f`; echo \"12802.${n%.fastq.gz}\\t$PWD/$f\"; done >> manifest.tsv"
   ]
  },
  {
   "cell_type": "markdown",
   "metadata": {},
   "source": [
    "### 3. Use the manifest file to import the sequences into QIIME 2"
   ]
  },
  {
   "cell_type": "code",
   "execution_count": 4,
   "metadata": {},
   "outputs": [],
   "source": [
    "manifest_single_end = qiime2.Artifact.import_data('SampleData[PairedEndSequencesWithQuality]',\n",
    "                                                  view_type='PairedEndFastqManifestPhred33V2',\n",
    "                                                  view=\"/Users/dalena/Data/meta/example_rawdata/filepath.manifest1\")"
   ]
  },
  {
   "cell_type": "markdown",
   "metadata": {},
   "source": [
    "### 4. Create a summary of the demultiplexed artifact"
   ]
  },
  {
   "cell_type": "code",
   "execution_count": 5,
   "metadata": {},
   "outputs": [],
   "source": [
    "demux_summary = demux.visualizers.summarize(manifest_single_end)"
   ]
  },
  {
   "cell_type": "markdown",
   "metadata": {
    "tags": []
   },
   "source": [
    "### 5. Visualize feature table"
   ]
  },
  {
   "cell_type": "code",
   "execution_count": 32,
   "metadata": {},
   "outputs": [
    {
     "data": {
      "text/html": [
       "<div><img onload=\"(function(div, url){\n",
       "if (typeof require !== 'undefined') {\n",
       "    var baseURL = require.toUrl('').split('/').slice(0, -2).join('/');\n",
       "} else {\n",
       "    var baseURL = JSON.parse(\n",
       "        document.getElementById('jupyter-config-data').innerHTML\n",
       "    ).baseUrl.slice(0, -1);\n",
       "}\n",
       "url = baseURL + url;\n",
       "fetch(url).then(function(res) {\n",
       "    if (res.status === 404) {\n",
       "        div.innerHTML = 'Install QIIME 2 Jupyter extension with:<br />' +\n",
       "                        '<code>jupyter serverextension enable --py qiime2' +\n",
       "                        ' --sys-prefix</code><br />then restart your server.' +\n",
       "                        '<br /><br />(Interactive output not available on ' +\n",
       "                        'static notebook viewer services like nbviewer.)';\n",
       "    } else if (res.status === 409) {\n",
       "        div.innerHTML = 'Visualization no longer in scope. Re-run this cell' +\n",
       "                        ' to see the visualization.';\n",
       "    } else if (res.ok) {\n",
       "        url = res.url;\n",
       "        div.innerHTML = '<iframe src=\\'' + url + '\\' style=\\'' +\n",
       "                        'width: 100%; height: 700px; border: 0;\\'>' +\n",
       "                        '</iframe><hr />Open in a: <a href=\\'' + url + '\\'' +\n",
       "                        ' target=\\'_blank\\'>new window</a>'\n",
       "    } else {\n",
       "        div.innerHTML = 'Something has gone wrong. Check notebook server for' +\n",
       "                        ' errors.';\n",
       "    }\n",
       "});\n",
       "})(this.parentElement, '/qiime2/redirect?location=/var/folders/v_/4kh0sbdj7234gyfd0scwc_m40000gn/T/qiime2-archive-i7otzfl3')\" src=\"data:image/gif;base64,R0lGODlhAQABAIAAAP///wAAACH5BAEAAAAALAAAAAABAAEAAAICRAEAOw==\" /></div>"
      ],
      "text/plain": [
       "<visualization: Visualization uuid: 8d316645-75ad-47b8-8747-5027a6d05fab>"
      ]
     },
     "execution_count": 32,
     "metadata": {},
     "output_type": "execute_result"
    }
   ],
   "source": [
    "demux_summary.visualization"
   ]
  },
  {
   "cell_type": "markdown",
   "metadata": {},
   "source": [
    "## Import metadata as an object"
   ]
  },
  {
   "cell_type": "code",
   "execution_count": null,
   "metadata": {},
   "outputs": [],
   "source": [
    "metadata_ecam = qiime2.Metadata.load(workdir+'/metadata.tsv')"
   ]
  },
  {
   "cell_type": "markdown",
   "metadata": {},
   "source": [
    "## Sequence quality control and feature table construction"
   ]
  },
  {
   "cell_type": "markdown",
   "metadata": {},
   "source": [
    "### 1. Apply intial quality filtering "
   ]
  },
  {
   "cell_type": "code",
   "execution_count": null,
   "metadata": {
    "scrolled": true
   },
   "outputs": [],
   "source": [
    "demux_q_score = quality_filter.methods.q_score(manifest_single_end)"
   ]
  },
  {
   "cell_type": "markdown",
   "metadata": {},
   "source": [
    "### 2. Apply Deblur workflow"
   ]
  },
  {
   "cell_type": "code",
   "execution_count": null,
   "metadata": {},
   "outputs": [],
   "source": [
    "# this step is time-consuming\n",
    "deblur_sequences = deblur.methods.denoise_16S(manifest_single_end,\n",
    "                                              trim_length=150,\n",
    "                                              sample_stats=True,\n",
    "                                              jobs_to_start=4)"
   ]
  },
  {
   "cell_type": "markdown",
   "metadata": {},
   "source": [
    "### 3. Create a visualization summary of deblur statistics"
   ]
  },
  {
   "cell_type": "code",
   "execution_count": null,
   "metadata": {},
   "outputs": [],
   "source": [
    "deblur_viz = deblur.visualizers.visualize_stats(deblur_sequences.stats)\n",
    "deblur_viz.visualization"
   ]
  },
  {
   "cell_type": "markdown",
   "metadata": {},
   "source": [
    "### 4. Visualize representative sequences"
   ]
  },
  {
   "cell_type": "code",
   "execution_count": null,
   "metadata": {},
   "outputs": [],
   "source": [
    "deblur_seq_viz = feature_table.visualizers.tabulate_seqs(deblur_sequences.representative_sequences)\n",
    "deblur_seq_viz.visualization"
   ]
  },
  {
   "cell_type": "markdown",
   "metadata": {},
   "source": [
    "### 5. Visualize feature table"
   ]
  },
  {
   "cell_type": "code",
   "execution_count": null,
   "metadata": {},
   "outputs": [],
   "source": [
    "feature_table_viz = feature_table.visualizers.summarize(deblur_sequences.table,\n",
    "                                                        metadata_ecam)\n",
    "feature_table_viz.visualization"
   ]
  },
  {
   "cell_type": "markdown",
   "metadata": {},
   "source": [
    "## Generate a phylogenetic tree"
   ]
  },
  {
   "cell_type": "markdown",
   "metadata": {},
   "source": [
    "### 1. Download a backbone tree"
   ]
  },
  {
   "cell_type": "code",
   "execution_count": null,
   "metadata": {},
   "outputs": [],
   "source": [
    "!wget \\\n",
    "  -O $workdir/sepp-refs-gg-13-8.qza \\\n",
    "  \"https://data.qiime2.org/2019.10/common/sepp-refs-gg-13-8.qza\""
   ]
  },
  {
   "cell_type": "code",
   "execution_count": null,
   "metadata": {},
   "outputs": [],
   "source": [
    "sepp_reference_db = qiime2.Artifact.load(workdir+'sepp-refs-gg-13-8.qza')"
   ]
  },
  {
   "cell_type": "markdown",
   "metadata": {},
   "source": [
    "### 2. Create an insertion tree"
   ]
  },
  {
   "cell_type": "code",
   "execution_count": null,
   "metadata": {},
   "outputs": [],
   "source": [
    "sepp_tree = fragment_insertion.methods.sepp(representative_sequences=deblur_sequences.representative_sequences,\n",
    "                                            reference_database=sepp_reference_db,\n",
    "                                            threads=4)"
   ]
  },
  {
   "cell_type": "markdown",
   "metadata": {},
   "source": [
    "### 3. Filter feature table"
   ]
  },
  {
   "cell_type": "code",
   "execution_count": null,
   "metadata": {},
   "outputs": [],
   "source": [
    "filtered_deblur_sequences = fragment_insertion.methods.filter_features(deblur_sequences.table,\n",
    "                                                                       sepp_tree.tree)"
   ]
  },
  {
   "cell_type": "markdown",
   "metadata": {},
   "source": [
    "## Taxonomic classification"
   ]
  },
  {
   "cell_type": "markdown",
   "metadata": {},
   "source": [
    "### 1. Download and import required files"
   ]
  },
  {
   "cell_type": "code",
   "execution_count": null,
   "metadata": {},
   "outputs": [],
   "source": [
    "!wget -O $workdir'human-stool.qza' \\\n",
    "https://github.com/BenKaehler/readytowear/raw/master/data/gg_13_8/515f-806r/human-stool.qza"
   ]
  },
  {
   "cell_type": "code",
   "execution_count": null,
   "metadata": {},
   "outputs": [],
   "source": [
    "human_stool = qiime2.Artifact.load(workdir+'human-stool.qza')"
   ]
  },
  {
   "cell_type": "code",
   "execution_count": null,
   "metadata": {},
   "outputs": [],
   "source": [
    "!wget -O $workdir'ref-seqs-v4.qza' \\\n",
    "https://github.com/BenKaehler/readytowear/raw/master/data/gg_13_8/515f-806r/ref-seqs-v4.qza"
   ]
  },
  {
   "cell_type": "code",
   "execution_count": null,
   "metadata": {},
   "outputs": [],
   "source": [
    "ref_seqs_v4 = qiime2.Artifact.load(workdir+'ref-seqs-v4.qza')"
   ]
  },
  {
   "cell_type": "code",
   "execution_count": null,
   "metadata": {},
   "outputs": [],
   "source": [
    "!wget -O $workdir'ref-tax.qza' \\\n",
    "https://github.com/BenKaehler/readytowear/raw/master/data/gg_13_8/515f-806r/ref-tax.qza"
   ]
  },
  {
   "cell_type": "code",
   "execution_count": null,
   "metadata": {},
   "outputs": [],
   "source": [
    "ref_tax = qiime2.Artifact.load(workdir+'ref-tax.qza')"
   ]
  },
  {
   "cell_type": "markdown",
   "metadata": {},
   "source": [
    "### 2. Train a classifier"
   ]
  },
  {
   "cell_type": "code",
   "execution_count": null,
   "metadata": {},
   "outputs": [],
   "source": [
    "human_stool_v4_classifier = feature_classifier.methods.fit_classifier_naive_bayes(ref_seqs_v4,\n",
    "                                                                                  ref_tax,\n",
    "                                                                                  human_stool)"
   ]
  },
  {
   "cell_type": "markdown",
   "metadata": {},
   "source": [
    "### 3. Assign taxonomy"
   ]
  },
  {
   "cell_type": "code",
   "execution_count": null,
   "metadata": {},
   "outputs": [],
   "source": [
    "taxonomy = feature_classifier.methods.classify_sklearn(deblur_sequences.representative_sequences,\n",
    "                                                       human_stool_v4_classifier.classifier)"
   ]
  },
  {
   "cell_type": "markdown",
   "metadata": {},
   "source": [
    "### 4. Visualize taxonomies"
   ]
  },
  {
   "cell_type": "code",
   "execution_count": null,
   "metadata": {},
   "outputs": [],
   "source": [
    "taxonomy_viz = metadata.visualizers.tabulate(taxonomy.classification.view(qiime2.Metadata))\n",
    "taxonomy_viz.visualization"
   ]
  },
  {
   "cell_type": "markdown",
   "metadata": {},
   "source": [
    "## Filter ECAM data to contain children samples only"
   ]
  },
  {
   "cell_type": "markdown",
   "metadata": {},
   "source": [
    "### 1. Filter feature table"
   ]
  },
  {
   "cell_type": "code",
   "execution_count": null,
   "metadata": {},
   "outputs": [],
   "source": [
    "child_only = feature_table.methods.filter_samples(deblur_sequences.table,\n",
    "                                                  metadata=metadata_ecam,\n",
    "                                                  where=\"[mom_or_child]='C'\")"
   ]
  },
  {
   "cell_type": "markdown",
   "metadata": {},
   "source": [
    "### 2. Visualize new feature table"
   ]
  },
  {
   "cell_type": "code",
   "execution_count": null,
   "metadata": {
    "scrolled": true
   },
   "outputs": [],
   "source": [
    "child_only_viz = feature_table.visualizers.summarize(child_only.filtered_table,\n",
    "                                                     metadata_ecam)\n",
    "child_only_viz.visualization"
   ]
  },
  {
   "cell_type": "markdown",
   "metadata": {},
   "source": [
    "## Alpha rarefaction plots"
   ]
  },
  {
   "cell_type": "code",
   "execution_count": null,
   "metadata": {},
   "outputs": [],
   "source": [
    "alpha_rarefaction = diversity.visualizers.alpha_rarefaction(child_only.filtered_table,\n",
    "                                                            phylogeny=sepp_tree.tree,\n",
    "                                                            max_depth=10000,\n",
    "                                                            metadata=metadata_ecam)"
   ]
  },
  {
   "cell_type": "markdown",
   "metadata": {},
   "source": [
    "## Basic data exploration and diversity analyses"
   ]
  },
  {
   "cell_type": "markdown",
   "metadata": {},
   "source": [
    "### 0. Filter feature table to include only one sample per subject per month"
   ]
  },
  {
   "cell_type": "code",
   "execution_count": null,
   "metadata": {},
   "outputs": [],
   "source": [
    "child_only_norep = feature_table.methods.filter_samples(child_only.filtered_table,\n",
    "                                                           metadata=metadata_ecam,\n",
    "                                                           where=\"[month_replicate]='no'\")"
   ]
  },
  {
   "cell_type": "code",
   "execution_count": null,
   "metadata": {},
   "outputs": [],
   "source": [
    "child_only_norep_viz = feature_table.visualizers.summarize(child_only_norep.filtered_table,\n",
    "                                                           metadata_ecam)\n",
    "child_only_norep_viz.visualization"
   ]
  },
  {
   "cell_type": "markdown",
   "metadata": {},
   "source": [
    "### 1. Generate taxonomic barplot"
   ]
  },
  {
   "cell_type": "code",
   "execution_count": null,
   "metadata": {},
   "outputs": [],
   "source": [
    "child_taxa = taxa.visualizers.barplot(child_only_norep.filtered_table,\n",
    "                                      taxonomy.classification,\n",
    "                                      metadata_ecam)\n",
    "child_taxa.visualization"
   ]
  },
  {
   "cell_type": "markdown",
   "metadata": {},
   "source": [
    "### 2. Compute alpha and beta diversity"
   ]
  },
  {
   "cell_type": "code",
   "execution_count": null,
   "metadata": {},
   "outputs": [],
   "source": [
    "child_only_norep_core_metrics = diversity.pipelines.core_metrics_phylogenetic(child_only_norep.filtered_table,\n",
    "                                                                              phylogeny=sepp_tree.tree,\n",
    "                                                                              sampling_depth=3400,\n",
    "                                                                              metadata=metadata_ecam,\n",
    "                                                                              n_jobs=4)"
   ]
  },
  {
   "cell_type": "markdown",
   "metadata": {},
   "source": [
    "## Perform statistical tests on diversity and generate interactive visualization"
   ]
  },
  {
   "cell_type": "markdown",
   "metadata": {},
   "source": [
    "### 1. Statistical test on alpha diversity"
   ]
  },
  {
   "cell_type": "markdown",
   "metadata": {},
   "source": [
    "#### A. Across all time points"
   ]
  },
  {
   "cell_type": "code",
   "execution_count": null,
   "metadata": {},
   "outputs": [],
   "source": [
    "shannon_child_only_norep_viz = \\\n",
    " diversity.visualizers.alpha_group_significance(child_only_norep_core_metrics.shannon_vector,\n",
    "                                                metadata_ecam)\n",
    "shannon_child_only_norep_viz.visualization"
   ]
  },
  {
   "cell_type": "markdown",
   "metadata": {},
   "source": [
    "#### B. At last time point (month 24)"
   ]
  },
  {
   "cell_type": "code",
   "execution_count": null,
   "metadata": {},
   "outputs": [],
   "source": [
    "child_only_norep_C24 = feature_table.methods.filter_samples(child_only_norep.filtered_table,\n",
    "                                                            metadata=metadata_ecam,\n",
    "                                                            where=\"[month]='24'\")"
   ]
  },
  {
   "cell_type": "code",
   "execution_count": null,
   "metadata": {},
   "outputs": [],
   "source": [
    "child_only_norep_C24_core_metrics = diversity.pipelines.core_metrics_phylogenetic(child_only_norep_C24.filtered_table,\n",
    "                                                                                  phylogeny=sepp_tree.tree,\n",
    "                                                                                  sampling_depth=3400,\n",
    "                                                                                  metadata=metadata_ecam,\n",
    "                                                                                  n_jobs=4)"
   ]
  },
  {
   "cell_type": "code",
   "execution_count": null,
   "metadata": {},
   "outputs": [],
   "source": [
    "shannon_child_only_norep_C24_viz = \\\n",
    " diversity.visualizers.alpha_group_significance(child_only_norep_C24_core_metrics.shannon_vector,\n",
    "                                                metadata_ecam)\n",
    "shannon_child_only_norep_C24_viz.visualization"
   ]
  },
  {
   "cell_type": "markdown",
   "metadata": {},
   "source": [
    "### 2. Statistical test on beta diversity"
   ]
  },
  {
   "cell_type": "code",
   "execution_count": null,
   "metadata": {},
   "outputs": [],
   "source": [
    "uw_unifrac_delivery_child_only_norep_C24_viz = \\\n",
    " diversity.visualizers.beta_group_significance(child_only_norep_C24_core_metrics.unweighted_unifrac_distance_matrix,\n",
    "                                               metadata=metadata_ecam.get_column('delivery'),\n",
    "                                               pairwise=True)"
   ]
  },
  {
   "cell_type": "markdown",
   "metadata": {},
   "source": [
    "## Longitudinal data analysis"
   ]
  },
  {
   "cell_type": "markdown",
   "metadata": {},
   "source": [
    "### 1. Linear mixed effects models"
   ]
  },
  {
   "cell_type": "code",
   "execution_count": null,
   "metadata": {},
   "outputs": [],
   "source": [
    "child_only_core_metrics = diversity.pipelines.core_metrics_phylogenetic(child_only.filtered_table,\n",
    "                                                                        phylogeny=sepp_tree.tree,\n",
    "                                                                        sampling_depth=3400,\n",
    "                                                                        metadata=metadata_ecam,\n",
    "                                                                        n_jobs=4)"
   ]
  },
  {
   "cell_type": "code",
   "execution_count": null,
   "metadata": {},
   "outputs": [],
   "source": [
    "metadata_ecam_w_shannon = metadata_ecam.merge(child_only_core_metrics.shannon_vector.view(qiime2.Metadata))"
   ]
  },
  {
   "cell_type": "code",
   "execution_count": null,
   "metadata": {},
   "outputs": [],
   "source": [
    "lme_shannon_child_only_viz = \\\n",
    " longitudinal.visualizers.linear_mixed_effects(metadata=metadata_ecam_w_shannon,\n",
    "                                               metric='shannon',\n",
    "                                               random_effects='day_of_life',\n",
    "                                               group_columns='delivery,diet',\n",
    "                                               state_column='day_of_life',\n",
    "                                               individual_id_column='host_subject_id')\n",
    "lme_shannon_child_only_viz.visualization"
   ]
  },
  {
   "cell_type": "markdown",
   "metadata": {},
   "source": [
    "### 2. Volatility visualization"
   ]
  },
  {
   "cell_type": "code",
   "execution_count": null,
   "metadata": {},
   "outputs": [],
   "source": [
    "volatility_shannon_child_only_viz = \\\n",
    " longitudinal.visualizers.volatility(metadata_ecam_w_shannon,\n",
    "                                     default_metric='shannon',\n",
    "                                     default_group_column='delivery',\n",
    "                                     state_column='month',\n",
    "                                     individual_id_column='host_subject_id')\n",
    "volatility_shannon_child_only_viz.visualization"
   ]
  },
  {
   "cell_type": "markdown",
   "metadata": {},
   "source": [
    "## Differential abundance testing"
   ]
  },
  {
   "cell_type": "markdown",
   "metadata": {},
   "source": [
    "### Option 1: ANCOM"
   ]
  },
  {
   "cell_type": "code",
   "execution_count": null,
   "metadata": {},
   "outputs": [],
   "source": [
    "# Create a new feature table that contains only samples from children at 6 months\n",
    "child_only_norep_C6 = feature_table.methods.filter_samples(child_only_norep.filtered_table,\n",
    "                                                           metadata=metadata_ecam,\n",
    "                                                           where=\"[month]='6'\")"
   ]
  },
  {
   "cell_type": "code",
   "execution_count": null,
   "metadata": {},
   "outputs": [],
   "source": [
    "# filter out low abundant features\n",
    "filtered_child_only_norep_C6 = feature_table.methods.filter_features(child_only_norep_C6.filtered_table,\n",
    "                                                                     min_samples=5,\n",
    "                                                                     min_frequency=20)"
   ]
  },
  {
   "cell_type": "code",
   "execution_count": null,
   "metadata": {},
   "outputs": [],
   "source": [
    "# add a pseudocount\n",
    "composition_table_C6 = composition.methods.add_pseudocount(filtered_child_only_norep_C6.filtered_table)"
   ]
  },
  {
   "cell_type": "code",
   "execution_count": null,
   "metadata": {},
   "outputs": [],
   "source": [
    "# run ANCOM\n",
    "ancom_C6_delivery = composition.visualizers.ancom(composition_table_C6.composition_table,\n",
    "                                                  metadata_ecam.get_column('delivery'))"
   ]
  },
  {
   "cell_type": "markdown",
   "metadata": {},
   "source": [
    "### Option 2: songbird"
   ]
  },
  {
   "cell_type": "code",
   "execution_count": null,
   "metadata": {},
   "outputs": [],
   "source": [
    "# make a folder to store songbird results\n",
    "!mkdir $workdir/songbird-results"
   ]
  },
  {
   "cell_type": "code",
   "execution_count": null,
   "metadata": {},
   "outputs": [],
   "source": [
    "# run songbird\n",
    "songbird_norep_C6 = songbird.methods.multinomial(child_only_norep_C6.filtered_table,\n",
    "                                                 metadata_ecam,\n",
    "                                                 formula=\"delivery+abx_exposure+diet+sex\",\n",
    "                                                 epochs=10000,\n",
    "                                                 differential_prior=0.5)"
   ]
  },
  {
   "cell_type": "code",
   "execution_count": null,
   "metadata": {},
   "outputs": [],
   "source": [
    "# examine estimated coefficients\n",
    "songbird_norep_C6.differentials.export_data(workdir+'songbird-results/differentials6monthControlled')"
   ]
  },
  {
   "cell_type": "markdown",
   "metadata": {},
   "source": [
    "## Meta-analysis through Qiita database using redbiom"
   ]
  },
  {
   "cell_type": "markdown",
   "metadata": {},
   "source": [
    "NOTE: there is no redbiom Python API, so the commands below are a copy from the CLI notebook"
   ]
  },
  {
   "cell_type": "code",
   "execution_count": null,
   "metadata": {},
   "outputs": [],
   "source": [
    "# check the name of contexts and number of samples and features indexed\n",
    "!redbiom summarize contexts"
   ]
  },
  {
   "cell_type": "code",
   "execution_count": null,
   "metadata": {},
   "outputs": [],
   "source": [
    "# identify samples where interested sequence was observed\n",
    "!redbiom search features --context Deblur-Illumina-16S-V4-150nt-780653 \\\n",
    "TACGTAGGGTGCAAGCGTTATCCGGAATTATTGGGCGTAAAGGGCTCGTAGGCGGTTCGTCGCGTCCGGTGTGAAAGTCCATCGCTTAACGGTGGATCTGCGCCGGGTACGGGCGGGCTGGAGTGCGGTAGGGGAGACTGGAATTCCCGG > observed_samples.txt"
   ]
  },
  {
   "cell_type": "code",
   "execution_count": null,
   "metadata": {},
   "outputs": [],
   "source": [
    "# search against only EMP samples\n",
    "!redbiom summarize samples \\\n",
    "  --category empo_3 \\\n",
    "  --from observed_samples.txt"
   ]
  },
  {
   "cell_type": "code",
   "execution_count": null,
   "metadata": {},
   "outputs": [],
   "source": [
    "# search against infant samples\n",
    "!redbiom select samples-from-metadata \\\n",
    "  --context Deblur-Illumina-16S-V4-150nt-780653 \\\n",
    "  --from observed_samples.txt \"where (host_age < 3 or age < 3) and qiita_study_id != 10249\" > infant_samples.txt"
   ]
  },
  {
   "cell_type": "code",
   "execution_count": null,
   "metadata": {},
   "outputs": [],
   "source": [
    "# summarize the metadata of infant samples\n",
    "!redbiom search metadata \\\n",
    "  --categories birth\n",
    "\n",
    "!redbiom summarize metadata birth_method birth_mode\n",
    "\n",
    "!redbiom summarize samples \\\n",
    "     --category birth_mode \\\n",
    "     --from infant_samples.txt"
   ]
  },
  {
   "cell_type": "code",
   "execution_count": null,
   "metadata": {},
   "outputs": [],
   "source": [
    "# check sample balance in modes of delivery\n",
    "!redbiom summarize metadata-category \\\n",
    "  --counter \\\n",
    "  --category birth_mode"
   ]
  },
  {
   "cell_type": "code",
   "execution_count": null,
   "metadata": {},
   "outputs": [],
   "source": [
    "# summarize samples over study id category\n",
    "!redbiom summarize samples \\\n",
    "  --category qiita_study_id \\\n",
    "  --from infant_samples.txt"
   ]
  },
  {
   "cell_type": "markdown",
   "metadata": {},
   "source": [
    "## _Supprot Protocols:_ Exporting QIIME 2 data"
   ]
  },
  {
   "cell_type": "markdown",
   "metadata": {},
   "source": [
    "A sample export of the SEPP insertion tree"
   ]
  },
  {
   "cell_type": "code",
   "execution_count": null,
   "metadata": {},
   "outputs": [],
   "source": [
    "sepp_tree.tree.export_data('extracted-insertion-tree')"
   ]
  },
  {
   "cell_type": "markdown",
   "metadata": {},
   "source": [
    "## _Support protocols:_ Analysis of shotgun metagenomic data"
   ]
  },
  {
   "cell_type": "markdown",
   "metadata": {},
   "source": [
    "### 1. Download sample data"
   ]
  },
  {
   "cell_type": "code",
   "execution_count": null,
   "metadata": {},
   "outputs": [],
   "source": [
    "!for i in query refseqs taxonomy bt2-database; \\\n",
    " do wget https://github.com/qiime2/q2-shogun/raw/master/q2_shogun/tests/data/$i.qza; done"
   ]
  },
  {
   "cell_type": "code",
   "execution_count": null,
   "metadata": {},
   "outputs": [],
   "source": [
    "shogun_query = qiime2.Artifact.load(workdir + '/query.qza')"
   ]
  },
  {
   "cell_type": "code",
   "execution_count": null,
   "metadata": {},
   "outputs": [],
   "source": [
    "shogun_refseqs = qiime2.Artifact.load(workdir + '/refseqs.qza')"
   ]
  },
  {
   "cell_type": "code",
   "execution_count": null,
   "metadata": {},
   "outputs": [],
   "source": [
    "shogun_taxonomy = qiime2.Artifact.load(workdir + '/taxonomy.qza')"
   ]
  },
  {
   "cell_type": "code",
   "execution_count": null,
   "metadata": {},
   "outputs": [],
   "source": [
    "bowtie2_db = qiime2.Artifact.load(workdir + '/bt2-database.qza')"
   ]
  },
  {
   "cell_type": "markdown",
   "metadata": {},
   "source": [
    "### 2. Run shotgun metagenomics pipeline"
   ]
  },
  {
   "cell_type": "code",
   "execution_count": null,
   "metadata": {},
   "outputs": [],
   "source": [
    "taxa_table = shogun.methods.nobunaga(query=shogun_query,\n",
    "                                     reference_reads=shogun_refseqs,\n",
    "                                     reference_taxonomy=shogun_taxonomy,\n",
    "                                     database=bowtie2_db)"
   ]
  }
 ],
 "metadata": {
  "kernelspec": {
   "display_name": "Python 3 (ipykernel)",
   "language": "python",
   "name": "python3"
  },
  "language_info": {
   "codemirror_mode": {
    "name": "ipython",
    "version": 3
   },
   "file_extension": ".py",
   "mimetype": "text/x-python",
   "name": "python",
   "nbconvert_exporter": "python",
   "pygments_lexer": "ipython3",
   "version": "3.8.12"
  }
 },
 "nbformat": 4,
 "nbformat_minor": 4
}
